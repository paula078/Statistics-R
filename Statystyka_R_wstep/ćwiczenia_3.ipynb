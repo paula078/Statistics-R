{
 "cells": [
  {
   "cell_type": "markdown",
   "id": "44fc73e7",
   "metadata": {},
   "source": [
    "# Rach. Prawd. Stat: Wstęp do R - Ćwicz. 3"
   ]
  },
  {
   "cell_type": "code",
   "execution_count": 1,
   "id": "89455f18",
   "metadata": {
    "scrolled": false
   },
   "outputs": [
    {
     "name": "stderr",
     "output_type": "stream",
     "text": [
      "\n",
      "Attaching package: ‘dplyr’\n",
      "\n",
      "\n",
      "The following objects are masked from ‘package:stats’:\n",
      "\n",
      "    filter, lag\n",
      "\n",
      "\n",
      "The following objects are masked from ‘package:base’:\n",
      "\n",
      "    intersect, setdiff, setequal, union\n",
      "\n",
      "\n"
     ]
    }
   ],
   "source": [
    "library(ggplot2)\n",
    "library(dplyr)"
   ]
  },
  {
   "cell_type": "markdown",
   "id": "6696e733",
   "metadata": {},
   "source": [
    "Oba pakiety wchodzą w skład „pakietu pakietów” o nazwie tidyverse. "
   ]
  },
  {
   "cell_type": "code",
   "execution_count": 2,
   "id": "c676490c",
   "metadata": {},
   "outputs": [
    {
     "data": {
      "text/html": [
       "<style>\n",
       ".list-inline {list-style: none; margin:0; padding: 0}\n",
       ".list-inline>li {display: inline-block}\n",
       ".list-inline>li:not(:last-child)::after {content: \"\\00b7\"; padding: 0 .5ex}\n",
       "</style>\n",
       "<ol class=list-inline><li>TRUE</li><li>TRUE</li><li>TRUE</li><li>FALSE</li><li>FALSE</li></ol>\n"
      ],
      "text/latex": [
       "\\begin{enumerate*}\n",
       "\\item TRUE\n",
       "\\item TRUE\n",
       "\\item TRUE\n",
       "\\item FALSE\n",
       "\\item FALSE\n",
       "\\end{enumerate*}\n"
      ],
      "text/markdown": [
       "1. TRUE\n",
       "2. TRUE\n",
       "3. TRUE\n",
       "4. FALSE\n",
       "5. FALSE\n",
       "\n",
       "\n"
      ],
      "text/plain": [
       "[1]  TRUE  TRUE  TRUE FALSE FALSE"
      ]
     },
     "metadata": {},
     "output_type": "display_data"
    }
   ],
   "source": [
    "#Utwórz wektor o nazwie my_logical, z trzema wartościami TRUE i dwoma wartościami FALSE. Nazwij ten wektor my_logical\n",
    "my_logical <- c(T, T, T, F, F)\n",
    "my_logical "
   ]
  },
  {
   "cell_type": "code",
   "execution_count": 3,
   "id": "44181270",
   "metadata": {},
   "outputs": [
    {
     "data": {
      "text/html": [
       "3"
      ],
      "text/latex": [
       "3"
      ],
      "text/markdown": [
       "3"
      ],
      "text/plain": [
       "[1] 3"
      ]
     },
     "metadata": {},
     "output_type": "display_data"
    }
   ],
   "source": [
    "sum_my_logical  <- sum(my_logical)\n",
    "sum_my_logical"
   ]
  },
  {
   "cell_type": "markdown",
   "id": "926eba59",
   "metadata": {},
   "source": [
    "Tabelę danych można filtrować zarówno wierszami jak i kolumnami, podając wektory logiczne odpowiadające odpowiednim indeksom:\n",
    "**Tablica_danych[wektor_filtrujacy_wiersze, wektor_filtrujacy_kolumny]**"
   ]
  },
  {
   "cell_type": "code",
   "execution_count": 4,
   "id": "6d2a98d9",
   "metadata": {
    "scrolled": true
   },
   "outputs": [
    {
     "data": {
      "text/html": [
       "<table class=\"dataframe\">\n",
       "<caption>A nfnGroupedData: 84 × 5</caption>\n",
       "<thead>\n",
       "\t<tr><th></th><th scope=col>Plant</th><th scope=col>Type</th><th scope=col>Treatment</th><th scope=col>conc</th><th scope=col>uptake</th></tr>\n",
       "\t<tr><th></th><th scope=col>&lt;ord&gt;</th><th scope=col>&lt;fct&gt;</th><th scope=col>&lt;fct&gt;</th><th scope=col>&lt;dbl&gt;</th><th scope=col>&lt;dbl&gt;</th></tr>\n",
       "</thead>\n",
       "<tbody>\n",
       "\t<tr><th scope=row>1</th><td>Qn1</td><td>Quebec</td><td>nonchilled</td><td>  95</td><td>16.0</td></tr>\n",
       "\t<tr><th scope=row>2</th><td>Qn1</td><td>Quebec</td><td>nonchilled</td><td> 175</td><td>30.4</td></tr>\n",
       "\t<tr><th scope=row>3</th><td>Qn1</td><td>Quebec</td><td>nonchilled</td><td> 250</td><td>34.8</td></tr>\n",
       "\t<tr><th scope=row>4</th><td>Qn1</td><td>Quebec</td><td>nonchilled</td><td> 350</td><td>37.2</td></tr>\n",
       "\t<tr><th scope=row>5</th><td>Qn1</td><td>Quebec</td><td>nonchilled</td><td> 500</td><td>35.3</td></tr>\n",
       "\t<tr><th scope=row>6</th><td>Qn1</td><td>Quebec</td><td>nonchilled</td><td> 675</td><td>39.2</td></tr>\n",
       "\t<tr><th scope=row>7</th><td>Qn1</td><td>Quebec</td><td>nonchilled</td><td>1000</td><td>39.7</td></tr>\n",
       "\t<tr><th scope=row>8</th><td>Qn2</td><td>Quebec</td><td>nonchilled</td><td>  95</td><td>13.6</td></tr>\n",
       "\t<tr><th scope=row>9</th><td>Qn2</td><td>Quebec</td><td>nonchilled</td><td> 175</td><td>27.3</td></tr>\n",
       "\t<tr><th scope=row>10</th><td>Qn2</td><td>Quebec</td><td>nonchilled</td><td> 250</td><td>37.1</td></tr>\n",
       "\t<tr><th scope=row>11</th><td>Qn2</td><td>Quebec</td><td>nonchilled</td><td> 350</td><td>41.8</td></tr>\n",
       "\t<tr><th scope=row>12</th><td>Qn2</td><td>Quebec</td><td>nonchilled</td><td> 500</td><td>40.6</td></tr>\n",
       "\t<tr><th scope=row>13</th><td>Qn2</td><td>Quebec</td><td>nonchilled</td><td> 675</td><td>41.4</td></tr>\n",
       "\t<tr><th scope=row>14</th><td>Qn2</td><td>Quebec</td><td>nonchilled</td><td>1000</td><td>44.3</td></tr>\n",
       "\t<tr><th scope=row>15</th><td>Qn3</td><td>Quebec</td><td>nonchilled</td><td>  95</td><td>16.2</td></tr>\n",
       "\t<tr><th scope=row>16</th><td>Qn3</td><td>Quebec</td><td>nonchilled</td><td> 175</td><td>32.4</td></tr>\n",
       "\t<tr><th scope=row>17</th><td>Qn3</td><td>Quebec</td><td>nonchilled</td><td> 250</td><td>40.3</td></tr>\n",
       "\t<tr><th scope=row>18</th><td>Qn3</td><td>Quebec</td><td>nonchilled</td><td> 350</td><td>42.1</td></tr>\n",
       "\t<tr><th scope=row>19</th><td>Qn3</td><td>Quebec</td><td>nonchilled</td><td> 500</td><td>42.9</td></tr>\n",
       "\t<tr><th scope=row>20</th><td>Qn3</td><td>Quebec</td><td>nonchilled</td><td> 675</td><td>43.9</td></tr>\n",
       "\t<tr><th scope=row>21</th><td>Qn3</td><td>Quebec</td><td>nonchilled</td><td>1000</td><td>45.5</td></tr>\n",
       "\t<tr><th scope=row>22</th><td>Qc1</td><td>Quebec</td><td>chilled   </td><td>  95</td><td>14.2</td></tr>\n",
       "\t<tr><th scope=row>23</th><td>Qc1</td><td>Quebec</td><td>chilled   </td><td> 175</td><td>24.1</td></tr>\n",
       "\t<tr><th scope=row>24</th><td>Qc1</td><td>Quebec</td><td>chilled   </td><td> 250</td><td>30.3</td></tr>\n",
       "\t<tr><th scope=row>25</th><td>Qc1</td><td>Quebec</td><td>chilled   </td><td> 350</td><td>34.6</td></tr>\n",
       "\t<tr><th scope=row>26</th><td>Qc1</td><td>Quebec</td><td>chilled   </td><td> 500</td><td>32.5</td></tr>\n",
       "\t<tr><th scope=row>27</th><td>Qc1</td><td>Quebec</td><td>chilled   </td><td> 675</td><td>35.4</td></tr>\n",
       "\t<tr><th scope=row>28</th><td>Qc1</td><td>Quebec</td><td>chilled   </td><td>1000</td><td>38.7</td></tr>\n",
       "\t<tr><th scope=row>29</th><td>Qc2</td><td>Quebec</td><td>chilled   </td><td>  95</td><td> 9.3</td></tr>\n",
       "\t<tr><th scope=row>30</th><td>Qc2</td><td>Quebec</td><td>chilled   </td><td> 175</td><td>27.3</td></tr>\n",
       "\t<tr><th scope=row>⋮</th><td>⋮</td><td>⋮</td><td>⋮</td><td>⋮</td><td>⋮</td></tr>\n",
       "\t<tr><th scope=row>55</th><td>Mn2</td><td>Mississippi</td><td>nonchilled</td><td> 675</td><td>31.1</td></tr>\n",
       "\t<tr><th scope=row>56</th><td>Mn2</td><td>Mississippi</td><td>nonchilled</td><td>1000</td><td>31.5</td></tr>\n",
       "\t<tr><th scope=row>57</th><td>Mn3</td><td>Mississippi</td><td>nonchilled</td><td>  95</td><td>11.3</td></tr>\n",
       "\t<tr><th scope=row>58</th><td>Mn3</td><td>Mississippi</td><td>nonchilled</td><td> 175</td><td>19.4</td></tr>\n",
       "\t<tr><th scope=row>59</th><td>Mn3</td><td>Mississippi</td><td>nonchilled</td><td> 250</td><td>25.8</td></tr>\n",
       "\t<tr><th scope=row>60</th><td>Mn3</td><td>Mississippi</td><td>nonchilled</td><td> 350</td><td>27.9</td></tr>\n",
       "\t<tr><th scope=row>61</th><td>Mn3</td><td>Mississippi</td><td>nonchilled</td><td> 500</td><td>28.5</td></tr>\n",
       "\t<tr><th scope=row>62</th><td>Mn3</td><td>Mississippi</td><td>nonchilled</td><td> 675</td><td>28.1</td></tr>\n",
       "\t<tr><th scope=row>63</th><td>Mn3</td><td>Mississippi</td><td>nonchilled</td><td>1000</td><td>27.8</td></tr>\n",
       "\t<tr><th scope=row>64</th><td>Mc1</td><td>Mississippi</td><td>chilled   </td><td>  95</td><td>10.5</td></tr>\n",
       "\t<tr><th scope=row>65</th><td>Mc1</td><td>Mississippi</td><td>chilled   </td><td> 175</td><td>14.9</td></tr>\n",
       "\t<tr><th scope=row>66</th><td>Mc1</td><td>Mississippi</td><td>chilled   </td><td> 250</td><td>18.1</td></tr>\n",
       "\t<tr><th scope=row>67</th><td>Mc1</td><td>Mississippi</td><td>chilled   </td><td> 350</td><td>18.9</td></tr>\n",
       "\t<tr><th scope=row>68</th><td>Mc1</td><td>Mississippi</td><td>chilled   </td><td> 500</td><td>19.5</td></tr>\n",
       "\t<tr><th scope=row>69</th><td>Mc1</td><td>Mississippi</td><td>chilled   </td><td> 675</td><td>22.2</td></tr>\n",
       "\t<tr><th scope=row>70</th><td>Mc1</td><td>Mississippi</td><td>chilled   </td><td>1000</td><td>21.9</td></tr>\n",
       "\t<tr><th scope=row>71</th><td>Mc2</td><td>Mississippi</td><td>chilled   </td><td>  95</td><td> 7.7</td></tr>\n",
       "\t<tr><th scope=row>72</th><td>Mc2</td><td>Mississippi</td><td>chilled   </td><td> 175</td><td>11.4</td></tr>\n",
       "\t<tr><th scope=row>73</th><td>Mc2</td><td>Mississippi</td><td>chilled   </td><td> 250</td><td>12.3</td></tr>\n",
       "\t<tr><th scope=row>74</th><td>Mc2</td><td>Mississippi</td><td>chilled   </td><td> 350</td><td>13.0</td></tr>\n",
       "\t<tr><th scope=row>75</th><td>Mc2</td><td>Mississippi</td><td>chilled   </td><td> 500</td><td>12.5</td></tr>\n",
       "\t<tr><th scope=row>76</th><td>Mc2</td><td>Mississippi</td><td>chilled   </td><td> 675</td><td>13.7</td></tr>\n",
       "\t<tr><th scope=row>77</th><td>Mc2</td><td>Mississippi</td><td>chilled   </td><td>1000</td><td>14.4</td></tr>\n",
       "\t<tr><th scope=row>78</th><td>Mc3</td><td>Mississippi</td><td>chilled   </td><td>  95</td><td>10.6</td></tr>\n",
       "\t<tr><th scope=row>79</th><td>Mc3</td><td>Mississippi</td><td>chilled   </td><td> 175</td><td>18.0</td></tr>\n",
       "\t<tr><th scope=row>80</th><td>Mc3</td><td>Mississippi</td><td>chilled   </td><td> 250</td><td>17.9</td></tr>\n",
       "\t<tr><th scope=row>81</th><td>Mc3</td><td>Mississippi</td><td>chilled   </td><td> 350</td><td>17.9</td></tr>\n",
       "\t<tr><th scope=row>82</th><td>Mc3</td><td>Mississippi</td><td>chilled   </td><td> 500</td><td>17.9</td></tr>\n",
       "\t<tr><th scope=row>83</th><td>Mc3</td><td>Mississippi</td><td>chilled   </td><td> 675</td><td>18.9</td></tr>\n",
       "\t<tr><th scope=row>84</th><td>Mc3</td><td>Mississippi</td><td>chilled   </td><td>1000</td><td>19.9</td></tr>\n",
       "</tbody>\n",
       "</table>\n"
      ],
      "text/latex": [
       "A nfnGroupedData: 84 × 5\n",
       "\\begin{tabular}{r|lllll}\n",
       "  & Plant & Type & Treatment & conc & uptake\\\\\n",
       "  & <ord> & <fct> & <fct> & <dbl> & <dbl>\\\\\n",
       "\\hline\n",
       "\t1 & Qn1 & Quebec & nonchilled &   95 & 16.0\\\\\n",
       "\t2 & Qn1 & Quebec & nonchilled &  175 & 30.4\\\\\n",
       "\t3 & Qn1 & Quebec & nonchilled &  250 & 34.8\\\\\n",
       "\t4 & Qn1 & Quebec & nonchilled &  350 & 37.2\\\\\n",
       "\t5 & Qn1 & Quebec & nonchilled &  500 & 35.3\\\\\n",
       "\t6 & Qn1 & Quebec & nonchilled &  675 & 39.2\\\\\n",
       "\t7 & Qn1 & Quebec & nonchilled & 1000 & 39.7\\\\\n",
       "\t8 & Qn2 & Quebec & nonchilled &   95 & 13.6\\\\\n",
       "\t9 & Qn2 & Quebec & nonchilled &  175 & 27.3\\\\\n",
       "\t10 & Qn2 & Quebec & nonchilled &  250 & 37.1\\\\\n",
       "\t11 & Qn2 & Quebec & nonchilled &  350 & 41.8\\\\\n",
       "\t12 & Qn2 & Quebec & nonchilled &  500 & 40.6\\\\\n",
       "\t13 & Qn2 & Quebec & nonchilled &  675 & 41.4\\\\\n",
       "\t14 & Qn2 & Quebec & nonchilled & 1000 & 44.3\\\\\n",
       "\t15 & Qn3 & Quebec & nonchilled &   95 & 16.2\\\\\n",
       "\t16 & Qn3 & Quebec & nonchilled &  175 & 32.4\\\\\n",
       "\t17 & Qn3 & Quebec & nonchilled &  250 & 40.3\\\\\n",
       "\t18 & Qn3 & Quebec & nonchilled &  350 & 42.1\\\\\n",
       "\t19 & Qn3 & Quebec & nonchilled &  500 & 42.9\\\\\n",
       "\t20 & Qn3 & Quebec & nonchilled &  675 & 43.9\\\\\n",
       "\t21 & Qn3 & Quebec & nonchilled & 1000 & 45.5\\\\\n",
       "\t22 & Qc1 & Quebec & chilled    &   95 & 14.2\\\\\n",
       "\t23 & Qc1 & Quebec & chilled    &  175 & 24.1\\\\\n",
       "\t24 & Qc1 & Quebec & chilled    &  250 & 30.3\\\\\n",
       "\t25 & Qc1 & Quebec & chilled    &  350 & 34.6\\\\\n",
       "\t26 & Qc1 & Quebec & chilled    &  500 & 32.5\\\\\n",
       "\t27 & Qc1 & Quebec & chilled    &  675 & 35.4\\\\\n",
       "\t28 & Qc1 & Quebec & chilled    & 1000 & 38.7\\\\\n",
       "\t29 & Qc2 & Quebec & chilled    &   95 &  9.3\\\\\n",
       "\t30 & Qc2 & Quebec & chilled    &  175 & 27.3\\\\\n",
       "\t⋮ & ⋮ & ⋮ & ⋮ & ⋮ & ⋮\\\\\n",
       "\t55 & Mn2 & Mississippi & nonchilled &  675 & 31.1\\\\\n",
       "\t56 & Mn2 & Mississippi & nonchilled & 1000 & 31.5\\\\\n",
       "\t57 & Mn3 & Mississippi & nonchilled &   95 & 11.3\\\\\n",
       "\t58 & Mn3 & Mississippi & nonchilled &  175 & 19.4\\\\\n",
       "\t59 & Mn3 & Mississippi & nonchilled &  250 & 25.8\\\\\n",
       "\t60 & Mn3 & Mississippi & nonchilled &  350 & 27.9\\\\\n",
       "\t61 & Mn3 & Mississippi & nonchilled &  500 & 28.5\\\\\n",
       "\t62 & Mn3 & Mississippi & nonchilled &  675 & 28.1\\\\\n",
       "\t63 & Mn3 & Mississippi & nonchilled & 1000 & 27.8\\\\\n",
       "\t64 & Mc1 & Mississippi & chilled    &   95 & 10.5\\\\\n",
       "\t65 & Mc1 & Mississippi & chilled    &  175 & 14.9\\\\\n",
       "\t66 & Mc1 & Mississippi & chilled    &  250 & 18.1\\\\\n",
       "\t67 & Mc1 & Mississippi & chilled    &  350 & 18.9\\\\\n",
       "\t68 & Mc1 & Mississippi & chilled    &  500 & 19.5\\\\\n",
       "\t69 & Mc1 & Mississippi & chilled    &  675 & 22.2\\\\\n",
       "\t70 & Mc1 & Mississippi & chilled    & 1000 & 21.9\\\\\n",
       "\t71 & Mc2 & Mississippi & chilled    &   95 &  7.7\\\\\n",
       "\t72 & Mc2 & Mississippi & chilled    &  175 & 11.4\\\\\n",
       "\t73 & Mc2 & Mississippi & chilled    &  250 & 12.3\\\\\n",
       "\t74 & Mc2 & Mississippi & chilled    &  350 & 13.0\\\\\n",
       "\t75 & Mc2 & Mississippi & chilled    &  500 & 12.5\\\\\n",
       "\t76 & Mc2 & Mississippi & chilled    &  675 & 13.7\\\\\n",
       "\t77 & Mc2 & Mississippi & chilled    & 1000 & 14.4\\\\\n",
       "\t78 & Mc3 & Mississippi & chilled    &   95 & 10.6\\\\\n",
       "\t79 & Mc3 & Mississippi & chilled    &  175 & 18.0\\\\\n",
       "\t80 & Mc3 & Mississippi & chilled    &  250 & 17.9\\\\\n",
       "\t81 & Mc3 & Mississippi & chilled    &  350 & 17.9\\\\\n",
       "\t82 & Mc3 & Mississippi & chilled    &  500 & 17.9\\\\\n",
       "\t83 & Mc3 & Mississippi & chilled    &  675 & 18.9\\\\\n",
       "\t84 & Mc3 & Mississippi & chilled    & 1000 & 19.9\\\\\n",
       "\\end{tabular}\n"
      ],
      "text/markdown": [
       "\n",
       "A nfnGroupedData: 84 × 5\n",
       "\n",
       "| <!--/--> | Plant &lt;ord&gt; | Type &lt;fct&gt; | Treatment &lt;fct&gt; | conc &lt;dbl&gt; | uptake &lt;dbl&gt; |\n",
       "|---|---|---|---|---|---|\n",
       "| 1 | Qn1 | Quebec | nonchilled |   95 | 16.0 |\n",
       "| 2 | Qn1 | Quebec | nonchilled |  175 | 30.4 |\n",
       "| 3 | Qn1 | Quebec | nonchilled |  250 | 34.8 |\n",
       "| 4 | Qn1 | Quebec | nonchilled |  350 | 37.2 |\n",
       "| 5 | Qn1 | Quebec | nonchilled |  500 | 35.3 |\n",
       "| 6 | Qn1 | Quebec | nonchilled |  675 | 39.2 |\n",
       "| 7 | Qn1 | Quebec | nonchilled | 1000 | 39.7 |\n",
       "| 8 | Qn2 | Quebec | nonchilled |   95 | 13.6 |\n",
       "| 9 | Qn2 | Quebec | nonchilled |  175 | 27.3 |\n",
       "| 10 | Qn2 | Quebec | nonchilled |  250 | 37.1 |\n",
       "| 11 | Qn2 | Quebec | nonchilled |  350 | 41.8 |\n",
       "| 12 | Qn2 | Quebec | nonchilled |  500 | 40.6 |\n",
       "| 13 | Qn2 | Quebec | nonchilled |  675 | 41.4 |\n",
       "| 14 | Qn2 | Quebec | nonchilled | 1000 | 44.3 |\n",
       "| 15 | Qn3 | Quebec | nonchilled |   95 | 16.2 |\n",
       "| 16 | Qn3 | Quebec | nonchilled |  175 | 32.4 |\n",
       "| 17 | Qn3 | Quebec | nonchilled |  250 | 40.3 |\n",
       "| 18 | Qn3 | Quebec | nonchilled |  350 | 42.1 |\n",
       "| 19 | Qn3 | Quebec | nonchilled |  500 | 42.9 |\n",
       "| 20 | Qn3 | Quebec | nonchilled |  675 | 43.9 |\n",
       "| 21 | Qn3 | Quebec | nonchilled | 1000 | 45.5 |\n",
       "| 22 | Qc1 | Quebec | chilled    |   95 | 14.2 |\n",
       "| 23 | Qc1 | Quebec | chilled    |  175 | 24.1 |\n",
       "| 24 | Qc1 | Quebec | chilled    |  250 | 30.3 |\n",
       "| 25 | Qc1 | Quebec | chilled    |  350 | 34.6 |\n",
       "| 26 | Qc1 | Quebec | chilled    |  500 | 32.5 |\n",
       "| 27 | Qc1 | Quebec | chilled    |  675 | 35.4 |\n",
       "| 28 | Qc1 | Quebec | chilled    | 1000 | 38.7 |\n",
       "| 29 | Qc2 | Quebec | chilled    |   95 |  9.3 |\n",
       "| 30 | Qc2 | Quebec | chilled    |  175 | 27.3 |\n",
       "| ⋮ | ⋮ | ⋮ | ⋮ | ⋮ | ⋮ |\n",
       "| 55 | Mn2 | Mississippi | nonchilled |  675 | 31.1 |\n",
       "| 56 | Mn2 | Mississippi | nonchilled | 1000 | 31.5 |\n",
       "| 57 | Mn3 | Mississippi | nonchilled |   95 | 11.3 |\n",
       "| 58 | Mn3 | Mississippi | nonchilled |  175 | 19.4 |\n",
       "| 59 | Mn3 | Mississippi | nonchilled |  250 | 25.8 |\n",
       "| 60 | Mn3 | Mississippi | nonchilled |  350 | 27.9 |\n",
       "| 61 | Mn3 | Mississippi | nonchilled |  500 | 28.5 |\n",
       "| 62 | Mn3 | Mississippi | nonchilled |  675 | 28.1 |\n",
       "| 63 | Mn3 | Mississippi | nonchilled | 1000 | 27.8 |\n",
       "| 64 | Mc1 | Mississippi | chilled    |   95 | 10.5 |\n",
       "| 65 | Mc1 | Mississippi | chilled    |  175 | 14.9 |\n",
       "| 66 | Mc1 | Mississippi | chilled    |  250 | 18.1 |\n",
       "| 67 | Mc1 | Mississippi | chilled    |  350 | 18.9 |\n",
       "| 68 | Mc1 | Mississippi | chilled    |  500 | 19.5 |\n",
       "| 69 | Mc1 | Mississippi | chilled    |  675 | 22.2 |\n",
       "| 70 | Mc1 | Mississippi | chilled    | 1000 | 21.9 |\n",
       "| 71 | Mc2 | Mississippi | chilled    |   95 |  7.7 |\n",
       "| 72 | Mc2 | Mississippi | chilled    |  175 | 11.4 |\n",
       "| 73 | Mc2 | Mississippi | chilled    |  250 | 12.3 |\n",
       "| 74 | Mc2 | Mississippi | chilled    |  350 | 13.0 |\n",
       "| 75 | Mc2 | Mississippi | chilled    |  500 | 12.5 |\n",
       "| 76 | Mc2 | Mississippi | chilled    |  675 | 13.7 |\n",
       "| 77 | Mc2 | Mississippi | chilled    | 1000 | 14.4 |\n",
       "| 78 | Mc3 | Mississippi | chilled    |   95 | 10.6 |\n",
       "| 79 | Mc3 | Mississippi | chilled    |  175 | 18.0 |\n",
       "| 80 | Mc3 | Mississippi | chilled    |  250 | 17.9 |\n",
       "| 81 | Mc3 | Mississippi | chilled    |  350 | 17.9 |\n",
       "| 82 | Mc3 | Mississippi | chilled    |  500 | 17.9 |\n",
       "| 83 | Mc3 | Mississippi | chilled    |  675 | 18.9 |\n",
       "| 84 | Mc3 | Mississippi | chilled    | 1000 | 19.9 |\n",
       "\n"
      ],
      "text/plain": [
       "   Plant Type        Treatment  conc uptake\n",
       "1  Qn1   Quebec      nonchilled   95 16.0  \n",
       "2  Qn1   Quebec      nonchilled  175 30.4  \n",
       "3  Qn1   Quebec      nonchilled  250 34.8  \n",
       "4  Qn1   Quebec      nonchilled  350 37.2  \n",
       "5  Qn1   Quebec      nonchilled  500 35.3  \n",
       "6  Qn1   Quebec      nonchilled  675 39.2  \n",
       "7  Qn1   Quebec      nonchilled 1000 39.7  \n",
       "8  Qn2   Quebec      nonchilled   95 13.6  \n",
       "9  Qn2   Quebec      nonchilled  175 27.3  \n",
       "10 Qn2   Quebec      nonchilled  250 37.1  \n",
       "11 Qn2   Quebec      nonchilled  350 41.8  \n",
       "12 Qn2   Quebec      nonchilled  500 40.6  \n",
       "13 Qn2   Quebec      nonchilled  675 41.4  \n",
       "14 Qn2   Quebec      nonchilled 1000 44.3  \n",
       "15 Qn3   Quebec      nonchilled   95 16.2  \n",
       "16 Qn3   Quebec      nonchilled  175 32.4  \n",
       "17 Qn3   Quebec      nonchilled  250 40.3  \n",
       "18 Qn3   Quebec      nonchilled  350 42.1  \n",
       "19 Qn3   Quebec      nonchilled  500 42.9  \n",
       "20 Qn3   Quebec      nonchilled  675 43.9  \n",
       "21 Qn3   Quebec      nonchilled 1000 45.5  \n",
       "22 Qc1   Quebec      chilled      95 14.2  \n",
       "23 Qc1   Quebec      chilled     175 24.1  \n",
       "24 Qc1   Quebec      chilled     250 30.3  \n",
       "25 Qc1   Quebec      chilled     350 34.6  \n",
       "26 Qc1   Quebec      chilled     500 32.5  \n",
       "27 Qc1   Quebec      chilled     675 35.4  \n",
       "28 Qc1   Quebec      chilled    1000 38.7  \n",
       "29 Qc2   Quebec      chilled      95  9.3  \n",
       "30 Qc2   Quebec      chilled     175 27.3  \n",
       "⋮  ⋮     ⋮           ⋮          ⋮    ⋮     \n",
       "55 Mn2   Mississippi nonchilled  675 31.1  \n",
       "56 Mn2   Mississippi nonchilled 1000 31.5  \n",
       "57 Mn3   Mississippi nonchilled   95 11.3  \n",
       "58 Mn3   Mississippi nonchilled  175 19.4  \n",
       "59 Mn3   Mississippi nonchilled  250 25.8  \n",
       "60 Mn3   Mississippi nonchilled  350 27.9  \n",
       "61 Mn3   Mississippi nonchilled  500 28.5  \n",
       "62 Mn3   Mississippi nonchilled  675 28.1  \n",
       "63 Mn3   Mississippi nonchilled 1000 27.8  \n",
       "64 Mc1   Mississippi chilled      95 10.5  \n",
       "65 Mc1   Mississippi chilled     175 14.9  \n",
       "66 Mc1   Mississippi chilled     250 18.1  \n",
       "67 Mc1   Mississippi chilled     350 18.9  \n",
       "68 Mc1   Mississippi chilled     500 19.5  \n",
       "69 Mc1   Mississippi chilled     675 22.2  \n",
       "70 Mc1   Mississippi chilled    1000 21.9  \n",
       "71 Mc2   Mississippi chilled      95  7.7  \n",
       "72 Mc2   Mississippi chilled     175 11.4  \n",
       "73 Mc2   Mississippi chilled     250 12.3  \n",
       "74 Mc2   Mississippi chilled     350 13.0  \n",
       "75 Mc2   Mississippi chilled     500 12.5  \n",
       "76 Mc2   Mississippi chilled     675 13.7  \n",
       "77 Mc2   Mississippi chilled    1000 14.4  \n",
       "78 Mc3   Mississippi chilled      95 10.6  \n",
       "79 Mc3   Mississippi chilled     175 18.0  \n",
       "80 Mc3   Mississippi chilled     250 17.9  \n",
       "81 Mc3   Mississippi chilled     350 17.9  \n",
       "82 Mc3   Mississippi chilled     500 17.9  \n",
       "83 Mc3   Mississippi chilled     675 18.9  \n",
       "84 Mc3   Mississippi chilled    1000 19.9  "
      ]
     },
     "metadata": {},
     "output_type": "display_data"
    }
   ],
   "source": [
    "CO2"
   ]
  },
  {
   "cell_type": "code",
   "execution_count": 5,
   "id": "f4b157f0",
   "metadata": {},
   "outputs": [
    {
     "data": {
      "text/html": [
       "<table class=\"dataframe\">\n",
       "<caption>A nfnGroupedData: 2 × 3</caption>\n",
       "<thead>\n",
       "\t<tr><th></th><th scope=col>Plant</th><th scope=col>Type</th><th scope=col>Treatment</th></tr>\n",
       "\t<tr><th></th><th scope=col>&lt;ord&gt;</th><th scope=col>&lt;fct&gt;</th><th scope=col>&lt;fct&gt;</th></tr>\n",
       "</thead>\n",
       "<tbody>\n",
       "\t<tr><th scope=row>1</th><td>Qn1</td><td>Quebec</td><td>nonchilled</td></tr>\n",
       "\t<tr><th scope=row>2</th><td>Qn1</td><td>Quebec</td><td>nonchilled</td></tr>\n",
       "</tbody>\n",
       "</table>\n"
      ],
      "text/latex": [
       "A nfnGroupedData: 2 × 3\n",
       "\\begin{tabular}{r|lll}\n",
       "  & Plant & Type & Treatment\\\\\n",
       "  & <ord> & <fct> & <fct>\\\\\n",
       "\\hline\n",
       "\t1 & Qn1 & Quebec & nonchilled\\\\\n",
       "\t2 & Qn1 & Quebec & nonchilled\\\\\n",
       "\\end{tabular}\n"
      ],
      "text/markdown": [
       "\n",
       "A nfnGroupedData: 2 × 3\n",
       "\n",
       "| <!--/--> | Plant &lt;ord&gt; | Type &lt;fct&gt; | Treatment &lt;fct&gt; |\n",
       "|---|---|---|---|\n",
       "| 1 | Qn1 | Quebec | nonchilled |\n",
       "| 2 | Qn1 | Quebec | nonchilled |\n",
       "\n"
      ],
      "text/plain": [
       "  Plant Type   Treatment \n",
       "1 Qn1   Quebec nonchilled\n",
       "2 Qn1   Quebec nonchilled"
      ]
     },
     "metadata": {},
     "output_type": "display_data"
    }
   ],
   "source": [
    "#Z wbudowanej tablicy danych CO2 zachowaj tylko pierwsze dwa wiersze, wskazując zakres indeksów wierszy w sposób taki jak na poprzednich ćwiczeniach, oraz tylo piewsze trzy kolumny, używając do filtrowania kolumn wektora my_logical - i pokaż wynik.\n",
    "CO2[1:2,my_logical]"
   ]
  },
  {
   "cell_type": "code",
   "execution_count": 6,
   "id": "20f38509",
   "metadata": {},
   "outputs": [
    {
     "data": {
      "text/html": [
       "TRUE"
      ],
      "text/latex": [
       "TRUE"
      ],
      "text/markdown": [
       "TRUE"
      ],
      "text/plain": [
       "[1] TRUE"
      ]
     },
     "metadata": {},
     "output_type": "display_data"
    },
    {
     "data": {
      "text/html": [
       "FALSE"
      ],
      "text/latex": [
       "FALSE"
      ],
      "text/markdown": [
       "FALSE"
      ],
      "text/plain": [
       "[1] FALSE"
      ]
     },
     "metadata": {},
     "output_type": "display_data"
    }
   ],
   "source": [
    "5 == 5.00\n",
    "pi == 3.14"
   ]
  },
  {
   "cell_type": "code",
   "execution_count": 7,
   "id": "8d2b6ff5",
   "metadata": {},
   "outputs": [
    {
     "name": "stderr",
     "output_type": "stream",
     "text": [
      "Warning message in prime_nr == odd:\n",
      "“długość dłuszego obiektu nie jest wielokrotnością długości krótszego obiektu”\n"
     ]
    },
    {
     "data": {
      "text/html": [
       "<style>\n",
       ".list-inline {list-style: none; margin:0; padding: 0}\n",
       ".list-inline>li {display: inline-block}\n",
       ".list-inline>li:not(:last-child)::after {content: \"\\00b7\"; padding: 0 .5ex}\n",
       "</style>\n",
       "<ol class=list-inline><li>FALSE</li><li>TRUE</li><li>TRUE</li><li>TRUE</li><li>FALSE</li><li>FALSE</li></ol>\n"
      ],
      "text/latex": [
       "\\begin{enumerate*}\n",
       "\\item FALSE\n",
       "\\item TRUE\n",
       "\\item TRUE\n",
       "\\item TRUE\n",
       "\\item FALSE\n",
       "\\item FALSE\n",
       "\\end{enumerate*}\n"
      ],
      "text/markdown": [
       "1. FALSE\n",
       "2. TRUE\n",
       "3. TRUE\n",
       "4. TRUE\n",
       "5. FALSE\n",
       "6. FALSE\n",
       "\n",
       "\n"
      ],
      "text/plain": [
       "[1] FALSE  TRUE  TRUE  TRUE FALSE FALSE"
      ]
     },
     "metadata": {},
     "output_type": "display_data"
    }
   ],
   "source": [
    "prime_nr  <- c(2, 3, 5, 7, 11)\n",
    "odd  <-  c(1, 3, 5, 7, 9, 11)\n",
    "prime_nr == odd"
   ]
  },
  {
   "cell_type": "markdown",
   "id": "ae04452e",
   "metadata": {},
   "source": [
    "Do sprawdzenia, czy całe porównywane wektory są identyczne służy funkcja **identical()**. Argumentami tej funkcji są porównywane wektory, a wynikiem nie jest wektor, a pojedyncza wartość logiczna. Wartość ta jest TRUE wtedy i tylko wtedy, gdy wszystkie porównywane wartości są takie same. Zwróć uwagę, że w tym przypadku nie jest stosowany “recykling” i wektory o różnej dłuości będą zawsze rozpoznawane zawsze jako NIE identyczne (wynik FALSE), mimo tego, że porównanie na poziomie poszczególnych par wartości wektorów może dać wynik TRUE."
   ]
  },
  {
   "cell_type": "code",
   "execution_count": 8,
   "id": "7db8676e",
   "metadata": {},
   "outputs": [
    {
     "data": {
      "text/html": [
       "FALSE"
      ],
      "text/latex": [
       "FALSE"
      ],
      "text/markdown": [
       "FALSE"
      ],
      "text/plain": [
       "[1] FALSE"
      ]
     },
     "metadata": {},
     "output_type": "display_data"
    }
   ],
   "source": [
    "identical(prime_nr, odd)"
   ]
  },
  {
   "cell_type": "markdown",
   "id": "88c5b3c9",
   "metadata": {},
   "source": [
    "Operator %in% („należy do”) pozwala na sprawdzenie, czy elementy jednego wektora występują w drugim. Wynikiem jest wektor wartości logicznych o długości takiej, jak długość pierwszego wektora (tego przed operatorem %in%); recykling tu nie działa."
   ]
  },
  {
   "cell_type": "code",
   "execution_count": 9,
   "id": "8509dabd",
   "metadata": {},
   "outputs": [
    {
     "data": {
      "text/html": [
       "<style>\n",
       ".list-inline {list-style: none; margin:0; padding: 0}\n",
       ".list-inline>li {display: inline-block}\n",
       ".list-inline>li:not(:last-child)::after {content: \"\\00b7\"; padding: 0 .5ex}\n",
       "</style>\n",
       "<ol class=list-inline><li>TRUE</li><li>FALSE</li><li>TRUE</li></ol>\n"
      ],
      "text/latex": [
       "\\begin{enumerate*}\n",
       "\\item TRUE\n",
       "\\item FALSE\n",
       "\\item TRUE\n",
       "\\end{enumerate*}\n"
      ],
      "text/markdown": [
       "1. TRUE\n",
       "2. FALSE\n",
       "3. TRUE\n",
       "\n",
       "\n"
      ],
      "text/plain": [
       "[1]  TRUE FALSE  TRUE"
      ]
     },
     "metadata": {},
     "output_type": "display_data"
    },
    {
     "data": {
      "text/html": [
       "1"
      ],
      "text/latex": [
       "1"
      ],
      "text/markdown": [
       "1"
      ],
      "text/plain": [
       "[1] 1"
      ]
     },
     "metadata": {},
     "output_type": "display_data"
    }
   ],
   "source": [
    "Ala  <- c('A', 'l', 'a')\n",
    "Ania  <- c('A', 'n', 'i', 'a')\n",
    "Ala %in% Ania\n",
    "sum(!Ala %in% Ania)"
   ]
  },
  {
   "cell_type": "markdown",
   "id": "14693b4b",
   "metadata": {},
   "source": [
    "Operator **&** jest używany do łączenia warunków dla wektorów, a operator **&&** jest używany do łączenia pojedynczych warunków.\n",
    "\n",
    "Różnica między nimi polega na tym, jak są wykorzystywane w kontekście wyrażeń warunkowych. Operator & wykonuje operację logiczną na każdym elemencie wektorów, a następnie zwraca wektor logiczny o tej samej długości. Operator && natomiast wykonuje operację logiczną tylko na pierwszym elemencie wektorów i zwraca pojedynczą wartość logiczną."
   ]
  },
  {
   "cell_type": "code",
   "execution_count": 10,
   "id": "7ea18f25",
   "metadata": {},
   "outputs": [
    {
     "data": {
      "text/html": [
       "<style>\n",
       ".list-inline {list-style: none; margin:0; padding: 0}\n",
       ".list-inline>li {display: inline-block}\n",
       ".list-inline>li:not(:last-child)::after {content: \"\\00b7\"; padding: 0 .5ex}\n",
       "</style>\n",
       "<ol class=list-inline><li>TRUE</li><li>TRUE</li><li>TRUE</li><li>TRUE</li><li>TRUE</li><li>FALSE</li><li>TRUE</li><li>TRUE</li><li>TRUE</li><li>TRUE</li><li>TRUE</li></ol>\n"
      ],
      "text/latex": [
       "\\begin{enumerate*}\n",
       "\\item TRUE\n",
       "\\item TRUE\n",
       "\\item TRUE\n",
       "\\item TRUE\n",
       "\\item TRUE\n",
       "\\item FALSE\n",
       "\\item TRUE\n",
       "\\item TRUE\n",
       "\\item TRUE\n",
       "\\item TRUE\n",
       "\\item TRUE\n",
       "\\end{enumerate*}\n"
      ],
      "text/markdown": [
       "1. TRUE\n",
       "2. TRUE\n",
       "3. TRUE\n",
       "4. TRUE\n",
       "5. TRUE\n",
       "6. FALSE\n",
       "7. TRUE\n",
       "8. TRUE\n",
       "9. TRUE\n",
       "10. TRUE\n",
       "11. TRUE\n",
       "\n",
       "\n"
      ],
      "text/plain": [
       " [1]  TRUE  TRUE  TRUE  TRUE  TRUE FALSE  TRUE  TRUE  TRUE  TRUE  TRUE"
      ]
     },
     "metadata": {},
     "output_type": "display_data"
    }
   ],
   "source": [
    "int_1_10  <- c(0:10)\n",
    "(int_1_10) > 5 | (int_1_10 < 5)"
   ]
  },
  {
   "cell_type": "code",
   "execution_count": 11,
   "id": "a0518df1",
   "metadata": {},
   "outputs": [
    {
     "data": {
      "text/html": [
       "<style>\n",
       ".list-inline {list-style: none; margin:0; padding: 0}\n",
       ".list-inline>li {display: inline-block}\n",
       ".list-inline>li:not(:last-child)::after {content: \"\\00b7\"; padding: 0 .5ex}\n",
       "</style>\n",
       "<ol class=list-inline><li>TRUE</li><li>FALSE</li><li>FALSE</li><li>FALSE</li><li>FALSE</li><li>FALSE</li><li>TRUE</li><li>FALSE</li><li>FALSE</li><li>FALSE</li><li>FALSE</li></ol>\n"
      ],
      "text/latex": [
       "\\begin{enumerate*}\n",
       "\\item TRUE\n",
       "\\item FALSE\n",
       "\\item FALSE\n",
       "\\item FALSE\n",
       "\\item FALSE\n",
       "\\item FALSE\n",
       "\\item TRUE\n",
       "\\item FALSE\n",
       "\\item FALSE\n",
       "\\item FALSE\n",
       "\\item FALSE\n",
       "\\end{enumerate*}\n"
      ],
      "text/markdown": [
       "1. TRUE\n",
       "2. FALSE\n",
       "3. FALSE\n",
       "4. FALSE\n",
       "5. FALSE\n",
       "6. FALSE\n",
       "7. TRUE\n",
       "8. FALSE\n",
       "9. FALSE\n",
       "10. FALSE\n",
       "11. FALSE\n",
       "\n",
       "\n"
      ],
      "text/plain": [
       " [1]  TRUE FALSE FALSE FALSE FALSE FALSE  TRUE FALSE FALSE FALSE FALSE"
      ]
     },
     "metadata": {},
     "output_type": "display_data"
    }
   ],
   "source": [
    "#Dla wektora wartości całkowitych od 1 to 10, utwórz wektor wartości logicznych wskazujących, które liczby są podzielne bez reszty zarówno przez 2 jak i przez 3.\n",
    "\n",
    "mod_2_3  <-  c((int_1_10 %% 2 == 0) & (int_1_10 %% 3 == 0))\n",
    "mod_2_3"
   ]
  },
  {
   "cell_type": "code",
   "execution_count": 12,
   "id": "ffdc8ef6",
   "metadata": {},
   "outputs": [
    {
     "data": {
      "text/html": [
       "<style>\n",
       ".list-inline {list-style: none; margin:0; padding: 0}\n",
       ".list-inline>li {display: inline-block}\n",
       ".list-inline>li:not(:last-child)::after {content: \"\\00b7\"; padding: 0 .5ex}\n",
       "</style>\n",
       "<ol class=list-inline><li>TRUE</li><li>TRUE</li><li>FALSE</li><li>FALSE</li></ol>\n"
      ],
      "text/latex": [
       "\\begin{enumerate*}\n",
       "\\item TRUE\n",
       "\\item TRUE\n",
       "\\item FALSE\n",
       "\\item FALSE\n",
       "\\end{enumerate*}\n"
      ],
      "text/markdown": [
       "1. TRUE\n",
       "2. TRUE\n",
       "3. FALSE\n",
       "4. FALSE\n",
       "\n",
       "\n"
      ],
      "text/plain": [
       "[1]  TRUE  TRUE FALSE FALSE"
      ]
     },
     "metadata": {},
     "output_type": "display_data"
    },
    {
     "data": {
      "text/html": [
       "TRUE"
      ],
      "text/latex": [
       "TRUE"
      ],
      "text/markdown": [
       "TRUE"
      ],
      "text/plain": [
       "[1] TRUE"
      ]
     },
     "metadata": {},
     "output_type": "display_data"
    }
   ],
   "source": [
    "x <- c(TRUE, TRUE, FALSE, FALSE)\n",
    "y <- c(TRUE, TRUE, FALSE, TRUE)\n",
    "x & y\n",
    "x && y"
   ]
  },
  {
   "cell_type": "markdown",
   "id": "6369f6eb",
   "metadata": {},
   "source": [
    "Funkcja **which(wyrażenie_sprawdzające_warunek)** zwraca nie wektor składający się z wartości TRUE lub FALSE, ale wektor numerów indeksów, dla których wartość porównania jest TRUE."
   ]
  },
  {
   "cell_type": "code",
   "execution_count": 13,
   "id": "1f3063f3",
   "metadata": {},
   "outputs": [
    {
     "data": {
      "text/html": [
       "<style>\n",
       ".list-inline {list-style: none; margin:0; padding: 0}\n",
       ".list-inline>li {display: inline-block}\n",
       ".list-inline>li:not(:last-child)::after {content: \"\\00b7\"; padding: 0 .5ex}\n",
       "</style>\n",
       "<ol class=list-inline><li>1</li><li>4</li><li>7</li><li>10</li></ol>\n"
      ],
      "text/latex": [
       "\\begin{enumerate*}\n",
       "\\item 1\n",
       "\\item 4\n",
       "\\item 7\n",
       "\\item 10\n",
       "\\end{enumerate*}\n"
      ],
      "text/markdown": [
       "1. 1\n",
       "2. 4\n",
       "3. 7\n",
       "4. 10\n",
       "\n",
       "\n"
      ],
      "text/plain": [
       "[1]  1  4  7 10"
      ]
     },
     "metadata": {},
     "output_type": "display_data"
    }
   ],
   "source": [
    "indx  <- which(int_1_10 %% 3 == 0)\n",
    "indx"
   ]
  },
  {
   "cell_type": "code",
   "execution_count": 14,
   "id": "6a708b5c",
   "metadata": {},
   "outputs": [
    {
     "data": {
      "text/html": [
       "<style>\n",
       ".list-inline {list-style: none; margin:0; padding: 0}\n",
       ".list-inline>li {display: inline-block}\n",
       ".list-inline>li:not(:last-child)::after {content: \"\\00b7\"; padding: 0 .5ex}\n",
       "</style>\n",
       "<ol class=list-inline><li>0</li><li>3</li><li>6</li><li>9</li></ol>\n"
      ],
      "text/latex": [
       "\\begin{enumerate*}\n",
       "\\item 0\n",
       "\\item 3\n",
       "\\item 6\n",
       "\\item 9\n",
       "\\end{enumerate*}\n"
      ],
      "text/markdown": [
       "1. 0\n",
       "2. 3\n",
       "3. 6\n",
       "4. 9\n",
       "\n",
       "\n"
      ],
      "text/plain": [
       "[1] 0 3 6 9"
      ]
     },
     "metadata": {},
     "output_type": "display_data"
    }
   ],
   "source": [
    "int_1_10[indx]"
   ]
  },
  {
   "cell_type": "markdown",
   "id": "40252887",
   "metadata": {},
   "source": [
    "**nazwa_wektora[wyrażenie_sprawdzające_warunek]**"
   ]
  },
  {
   "cell_type": "code",
   "execution_count": 15,
   "id": "119fc1f7",
   "metadata": {},
   "outputs": [
    {
     "data": {
      "text/html": [
       "<style>\n",
       ".list-inline {list-style: none; margin:0; padding: 0}\n",
       ".list-inline>li {display: inline-block}\n",
       ".list-inline>li:not(:last-child)::after {content: \"\\00b7\"; padding: 0 .5ex}\n",
       "</style>\n",
       "<ol class=list-inline><li>6</li><li>7</li><li>8</li><li>9</li><li>10</li></ol>\n"
      ],
      "text/latex": [
       "\\begin{enumerate*}\n",
       "\\item 6\n",
       "\\item 7\n",
       "\\item 8\n",
       "\\item 9\n",
       "\\item 10\n",
       "\\end{enumerate*}\n"
      ],
      "text/markdown": [
       "1. 6\n",
       "2. 7\n",
       "3. 8\n",
       "4. 9\n",
       "5. 10\n",
       "\n",
       "\n"
      ],
      "text/plain": [
       "[1]  6  7  8  9 10"
      ]
     },
     "metadata": {},
     "output_type": "display_data"
    }
   ],
   "source": [
    "int_1_10[int_1_10 > mean(int_1_10)]"
   ]
  },
  {
   "cell_type": "code",
   "execution_count": 16,
   "id": "3ac2ebc8",
   "metadata": {},
   "outputs": [
    {
     "data": {
      "text/html": [
       "<table class=\"dataframe\">\n",
       "<caption>A nfnGroupedData: 2 × 5</caption>\n",
       "<thead>\n",
       "\t<tr><th></th><th scope=col>Plant</th><th scope=col>Type</th><th scope=col>Treatment</th><th scope=col>conc</th><th scope=col>uptake</th></tr>\n",
       "\t<tr><th></th><th scope=col>&lt;ord&gt;</th><th scope=col>&lt;fct&gt;</th><th scope=col>&lt;fct&gt;</th><th scope=col>&lt;dbl&gt;</th><th scope=col>&lt;dbl&gt;</th></tr>\n",
       "</thead>\n",
       "<tbody>\n",
       "\t<tr><th scope=row>8</th><td>Qn2</td><td>Quebec</td><td>nonchilled</td><td> 95</td><td>13.6</td></tr>\n",
       "\t<tr><th scope=row>9</th><td>Qn2</td><td>Quebec</td><td>nonchilled</td><td>175</td><td>27.3</td></tr>\n",
       "</tbody>\n",
       "</table>\n"
      ],
      "text/latex": [
       "A nfnGroupedData: 2 × 5\n",
       "\\begin{tabular}{r|lllll}\n",
       "  & Plant & Type & Treatment & conc & uptake\\\\\n",
       "  & <ord> & <fct> & <fct> & <dbl> & <dbl>\\\\\n",
       "\\hline\n",
       "\t8 & Qn2 & Quebec & nonchilled &  95 & 13.6\\\\\n",
       "\t9 & Qn2 & Quebec & nonchilled & 175 & 27.3\\\\\n",
       "\\end{tabular}\n"
      ],
      "text/markdown": [
       "\n",
       "A nfnGroupedData: 2 × 5\n",
       "\n",
       "| <!--/--> | Plant &lt;ord&gt; | Type &lt;fct&gt; | Treatment &lt;fct&gt; | conc &lt;dbl&gt; | uptake &lt;dbl&gt; |\n",
       "|---|---|---|---|---|---|\n",
       "| 8 | Qn2 | Quebec | nonchilled |  95 | 13.6 |\n",
       "| 9 | Qn2 | Quebec | nonchilled | 175 | 27.3 |\n",
       "\n"
      ],
      "text/plain": [
       "  Plant Type   Treatment  conc uptake\n",
       "8 Qn2   Quebec nonchilled  95  13.6  \n",
       "9 Qn2   Quebec nonchilled 175  27.3  "
      ]
     },
     "metadata": {},
     "output_type": "display_data"
    }
   ],
   "source": [
    "CO2[((CO2[,\"Plant\"] == \"Qn2\") & (CO2[,\"conc\"] < 200)),]"
   ]
  },
  {
   "cell_type": "code",
   "execution_count": 17,
   "id": "e007f65b",
   "metadata": {},
   "outputs": [
    {
     "name": "stdout",
     "output_type": "stream",
     "text": [
      "[1] \"I have 10 apples in my basket.\"\n",
      "I have 10 apples in my basket. \n"
     ]
    }
   ],
   "source": [
    "# paste i cat\n",
    "a <- 10\n",
    "b <- \"apples\"\n",
    "c <- paste(\"I have\", a, b, \"in my basket.\")\n",
    "print(c)\n",
    "# lub\n",
    "cat(c, \"\\n\")"
   ]
  },
  {
   "cell_type": "code",
   "execution_count": 18,
   "id": "b16eaa6b",
   "metadata": {},
   "outputs": [
    {
     "name": "stdout",
     "output_type": "stream",
     "text": [
      "[1] \"-5 Negative\"\n",
      "[1] \"-4 Negative\"\n",
      "[1] \"-3 Negative\"\n",
      "[1] \"-2 Negative\"\n",
      "[1] \"-1 Negative\"\n",
      "[1] \"0 NonNegative\"\n",
      "[1] \"1 NonNegative\"\n",
      "[1] \"2 NonNegative\"\n",
      "[1] \"3 NonNegative\"\n",
      "[1] \"4 NonNegative\"\n",
      "[1] \"5 NonNegative\"\n"
     ]
    }
   ],
   "source": [
    "for(x in c(-5:5)){\n",
    "    if( x < 0){\n",
    "        print(paste(x, \"Negative\"))\n",
    "    }else{\n",
    "        print(paste(x, \"NonNegative\"))\n",
    "    }\n",
    "}"
   ]
  },
  {
   "cell_type": "code",
   "execution_count": 19,
   "id": "e21ef1b4",
   "metadata": {},
   "outputs": [
    {
     "name": "stdout",
     "output_type": "stream",
     "text": [
      "[1] 1\n",
      "[1] 9\n",
      "[1] 25\n",
      "[1] 49\n"
     ]
    }
   ],
   "source": [
    "for(i in seq(from = 1,to = 8,by = 2)){\n",
    "  print(i^2)\n",
    "}"
   ]
  },
  {
   "cell_type": "markdown",
   "id": "d4c632a3",
   "metadata": {},
   "source": [
    "Funkcja seq() służy do tworzenia sekwencji wartości o równej odległości między wartościami, a funkcja c() służy np. do łączenia wektorów."
   ]
  },
  {
   "cell_type": "code",
   "execution_count": 20,
   "id": "92c7a4ad",
   "metadata": {},
   "outputs": [
    {
     "data": {
      "text/html": [
       "<style>\n",
       ".list-inline {list-style: none; margin:0; padding: 0}\n",
       ".list-inline>li {display: inline-block}\n",
       ".list-inline>li:not(:last-child)::after {content: \"\\00b7\"; padding: 0 .5ex}\n",
       "</style>\n",
       "<ol class=list-inline><li>1</li><li>2</li><li>3</li><li>4</li><li>5</li><li>6</li></ol>\n"
      ],
      "text/latex": [
       "\\begin{enumerate*}\n",
       "\\item 1\n",
       "\\item 2\n",
       "\\item 3\n",
       "\\item 4\n",
       "\\item 5\n",
       "\\item 6\n",
       "\\end{enumerate*}\n"
      ],
      "text/markdown": [
       "1. 1\n",
       "2. 2\n",
       "3. 3\n",
       "4. 4\n",
       "5. 5\n",
       "6. 6\n",
       "\n",
       "\n"
      ],
      "text/plain": [
       "[1] 1 2 3 4 5 6"
      ]
     },
     "metadata": {},
     "output_type": "display_data"
    }
   ],
   "source": [
    "a <- c(1, 2, 3)\n",
    "b <- c(4, 5, 6)\n",
    "c(a, b)"
   ]
  },
  {
   "cell_type": "markdown",
   "id": "0360a074",
   "metadata": {},
   "source": [
    "## Graficzna prezentacja danych i wyników - podstawowe wykresy R"
   ]
  },
  {
   "cell_type": "markdown",
   "id": "f687f4c7",
   "metadata": {},
   "source": [
    "**plot() - wykres “punktowy” (scatterplot) zależoności Y od X**"
   ]
  },
  {
   "cell_type": "code",
   "execution_count": 21,
   "id": "808db875",
   "metadata": {},
   "outputs": [],
   "source": [
    "# plot(Zmienna_Y ~ Zmienna_X, data = Tablica_danych,\n",
    "#         xlab = \"Tytuł osi X\",\n",
    "#         ylab = \"Tytuł osi Y\",\n",
    "#         main = \"Tytuł wykresu\",\n",
    "#         pch = 16 # typ punktu,\n",
    "#         # inne, dalsze parametry\n",
    "#      )\n",
    "\n",
    "# lub \n",
    "\n",
    "# plot(x = Tablica_danych$Zmienna_X, y = Tablica_danych$Zmienna_Y,\n",
    "#         xlab = \"Tytuł osi X\",\n",
    "#         ylab = \"Tytuł osi Y\",\n",
    "#         main = \"Tytuł wykresu\",\n",
    "#         # inne, dalsze parametry\n",
    "#      )"
   ]
  },
  {
   "cell_type": "code",
   "execution_count": 22,
   "id": "826912a8",
   "metadata": {},
   "outputs": [
    {
     "data": {
      "image/png": "[encoded data removed]",
      "text/plain": [
       "Plot with title “CO2: relation between uptake and conc”"
      ]
     },
     "metadata": {
      "image/png": {
       "height": 420,
       "width": 420
      }
     },
     "output_type": "display_data"
    }
   ],
   "source": [
    "#  Użyj wbudowanych danych CO2 i wykonaj wykres zależności uptake od conc.\n",
    "plot(CO2$uptake ~ CO2$conc, data = CO2,\n",
    "     xlab = \"conc (mL/L)\",\n",
    "     ylab = \"uptake (umol/m^2sec)\",\n",
    "     main = \"CO2: relation between uptake and conc\",\n",
    "     ylim = c(0, 50), # zakres osi Y\n",
    "     xlim = c(300, 1000), # zakres osi X\n",
    "     lty = 2, # styl linii\n",
    "     col = \"blue\", # kolor linii i punktów\n",
    "     pch = 16 # typ punktu   !okreslic\n",
    "     )"
   ]
  },
  {
   "cell_type": "code",
   "execution_count": 23,
   "id": "09acd581",
   "metadata": {},
   "outputs": [
    {
     "data": {
      "image/png": "[encoded data removed]",
      "text/plain": [
       "Plot with title “CO2: relation between uptake and conc”"
      ]
     },
     "metadata": {
      "image/png": {
       "height": 420,
       "width": 420
      }
     },
     "output_type": "display_data"
    }
   ],
   "source": [
    "plot(x = CO2$conc, y = CO2$uptake,\n",
    "        xlab = \"conc (mL/L)\",\n",
    "        ylab = \"uptake (umol/m^2sec)\",\n",
    "        main = \"CO2: relation between uptake and conc\",\n",
    "        # inne, dalsze parametry\n",
    "     )"
   ]
  },
  {
   "cell_type": "markdown",
   "id": "865947e7",
   "metadata": {},
   "source": [
    "**hist() - histogram rozkładu zmiennej X**"
   ]
  },
  {
   "cell_type": "code",
   "execution_count": 24,
   "id": "db8f043f",
   "metadata": {},
   "outputs": [],
   "source": [
    "# hist(x = Zmienna_X,\n",
    "#         xlab = \"Tytuł osi X\",\n",
    "#         ylab = \"Tytuł osi Y\", #ale można użyć domyślnego\n",
    "#         # inne, dalsze parametry (tytuł wykresu tworzy się automatycznie)\n",
    "#      )"
   ]
  },
  {
   "cell_type": "code",
   "execution_count": 25,
   "id": "ff46a721",
   "metadata": {},
   "outputs": [
    {
     "data": {
      "image/png": "[encoded data removed]",
      "text/plain": [
       "Plot with title “Histogram of CO2$uptake”"
      ]
     },
     "metadata": {
      "image/png": {
       "height": 420,
       "width": 420
      }
     },
     "output_type": "display_data"
    }
   ],
   "source": [
    "# Użyj wbudowanych danych CO2 i wykonaj wykres przedstawiający histogram zmiennej uptake.\n",
    "hist(x = CO2$uptake,\n",
    "        xlab = \"uptake (umol/m^2sec)\",\n",
    "     )"
   ]
  },
  {
   "cell_type": "markdown",
   "id": "aaf45cee",
   "metadata": {},
   "source": [
    "## Funkcje pakietu dplyr: przetwarzanie danych i raportowanie statystyk opisowych"
   ]
  },
  {
   "cell_type": "markdown",
   "id": "65804b57",
   "metadata": {},
   "source": [
    "**Sortowanie danych:** \n",
    "- rosnąco: arrange(tabela_danych, kolumna_determinująca_sortowanie) \n",
    "- malejąco: arrange(tabela_danych, desc(kolumna_determinująca_sortowanie))"
   ]
  },
  {
   "cell_type": "code",
   "execution_count": 26,
   "id": "8ab82803",
   "metadata": {},
   "outputs": [
    {
     "data": {
      "text/html": [
       "<table class=\"dataframe\">\n",
       "<caption>A nfnGroupedData: 2 × 2</caption>\n",
       "<thead>\n",
       "\t<tr><th></th><th scope=col>Plant</th><th scope=col>uptake</th></tr>\n",
       "\t<tr><th></th><th scope=col>&lt;ord&gt;</th><th scope=col>&lt;dbl&gt;</th></tr>\n",
       "</thead>\n",
       "<tbody>\n",
       "\t<tr><th scope=row>1</th><td>Qn3</td><td>45.5</td></tr>\n",
       "\t<tr><th scope=row>2</th><td>Qn2</td><td>44.3</td></tr>\n",
       "</tbody>\n",
       "</table>\n"
      ],
      "text/latex": [
       "A nfnGroupedData: 2 × 2\n",
       "\\begin{tabular}{r|ll}\n",
       "  & Plant & uptake\\\\\n",
       "  & <ord> & <dbl>\\\\\n",
       "\\hline\n",
       "\t1 & Qn3 & 45.5\\\\\n",
       "\t2 & Qn2 & 44.3\\\\\n",
       "\\end{tabular}\n"
      ],
      "text/markdown": [
       "\n",
       "A nfnGroupedData: 2 × 2\n",
       "\n",
       "| <!--/--> | Plant &lt;ord&gt; | uptake &lt;dbl&gt; |\n",
       "|---|---|---|\n",
       "| 1 | Qn3 | 45.5 |\n",
       "| 2 | Qn2 | 44.3 |\n",
       "\n"
      ],
      "text/plain": [
       "  Plant uptake\n",
       "1 Qn3   45.5  \n",
       "2 Qn2   44.3  "
      ]
     },
     "metadata": {},
     "output_type": "display_data"
    }
   ],
   "source": [
    "# Posortuj dane wg malejącej wartości uptake, przypisz wynik do zmiennej CO2_desc_uptake\n",
    "\n",
    "arrange(CO2, desc(CO2$uptake))[1:2,c(1, 5)]"
   ]
  },
  {
   "cell_type": "code",
   "execution_count": 27,
   "id": "4007ffbb",
   "metadata": {},
   "outputs": [
    {
     "data": {
      "text/html": [
       "<table class=\"dataframe\">\n",
       "<caption>A nfnGroupedData: 2 × 5</caption>\n",
       "<thead>\n",
       "\t<tr><th scope=col>Plant</th><th scope=col>Type</th><th scope=col>Treatment</th><th scope=col>conc</th><th scope=col>uptake</th></tr>\n",
       "\t<tr><th scope=col>&lt;ord&gt;</th><th scope=col>&lt;fct&gt;</th><th scope=col>&lt;fct&gt;</th><th scope=col>&lt;dbl&gt;</th><th scope=col>&lt;dbl&gt;</th></tr>\n",
       "</thead>\n",
       "<tbody>\n",
       "\t<tr><td>Qc2</td><td>Quebec     </td><td>chilled</td><td>95</td><td>9.3</td></tr>\n",
       "\t<tr><td>Mc2</td><td>Mississippi</td><td>chilled</td><td>95</td><td>7.7</td></tr>\n",
       "</tbody>\n",
       "</table>\n"
      ],
      "text/latex": [
       "A nfnGroupedData: 2 × 5\n",
       "\\begin{tabular}{lllll}\n",
       " Plant & Type & Treatment & conc & uptake\\\\\n",
       " <ord> & <fct> & <fct> & <dbl> & <dbl>\\\\\n",
       "\\hline\n",
       "\t Qc2 & Quebec      & chilled & 95 & 9.3\\\\\n",
       "\t Mc2 & Mississippi & chilled & 95 & 7.7\\\\\n",
       "\\end{tabular}\n"
      ],
      "text/markdown": [
       "\n",
       "A nfnGroupedData: 2 × 5\n",
       "\n",
       "| Plant &lt;ord&gt; | Type &lt;fct&gt; | Treatment &lt;fct&gt; | conc &lt;dbl&gt; | uptake &lt;dbl&gt; |\n",
       "|---|---|---|---|---|\n",
       "| Qc2 | Quebec      | chilled | 95 | 9.3 |\n",
       "| Mc2 | Mississippi | chilled | 95 | 7.7 |\n",
       "\n"
      ],
      "text/plain": [
       "  Plant Type        Treatment conc uptake\n",
       "1 Qc2   Quebec      chilled   95   9.3   \n",
       "2 Mc2   Mississippi chilled   95   7.7   "
      ]
     },
     "metadata": {},
     "output_type": "display_data"
    }
   ],
   "source": [
    "# Utworz tabelę CO2_uptake_40 zawierającą wiersze tylko z wartosćiami uptake < 10 i pokaż wszstkie wiersze tej tablicy.\n",
    "\n",
    "CO2_uptake_40 <- filter(CO2, uptake < 10)\n",
    "CO2_uptake_40"
   ]
  },
  {
   "cell_type": "code",
   "execution_count": 28,
   "id": "0d1a8017",
   "metadata": {},
   "outputs": [],
   "source": [
    "# Utworz tabelę CO2_log_uptake zawierającą dodatkową zmienną log_uptake, równą logarytmowu dziesiętnemu z uptake i pokaż pierwsze dwa wiersze tej tablicy.\n",
    "\n",
    "CO2['CO2_log_uptake']  <-  log10(CO2$uptake)"
   ]
  },
  {
   "cell_type": "code",
   "execution_count": 29,
   "id": "dfe3a9e5",
   "metadata": {
    "scrolled": true
   },
   "outputs": [
    {
     "data": {
      "text/html": [
       "<table class=\"dataframe\">\n",
       "<caption>A nfnGroupedData: 84 × 6</caption>\n",
       "<thead>\n",
       "\t<tr><th></th><th scope=col>Plant</th><th scope=col>Type</th><th scope=col>Treatment</th><th scope=col>conc</th><th scope=col>uptake</th><th scope=col>CO2_log_uptake</th></tr>\n",
       "\t<tr><th></th><th scope=col>&lt;ord&gt;</th><th scope=col>&lt;fct&gt;</th><th scope=col>&lt;fct&gt;</th><th scope=col>&lt;dbl&gt;</th><th scope=col>&lt;dbl&gt;</th><th scope=col>&lt;dbl&gt;</th></tr>\n",
       "</thead>\n",
       "<tbody>\n",
       "\t<tr><th scope=row>1</th><td>Qn1</td><td>Quebec</td><td>nonchilled</td><td>  95</td><td>16.0</td><td>1.2041200</td></tr>\n",
       "\t<tr><th scope=row>2</th><td>Qn1</td><td>Quebec</td><td>nonchilled</td><td> 175</td><td>30.4</td><td>1.4828736</td></tr>\n",
       "\t<tr><th scope=row>3</th><td>Qn1</td><td>Quebec</td><td>nonchilled</td><td> 250</td><td>34.8</td><td>1.5415792</td></tr>\n",
       "\t<tr><th scope=row>4</th><td>Qn1</td><td>Quebec</td><td>nonchilled</td><td> 350</td><td>37.2</td><td>1.5705429</td></tr>\n",
       "\t<tr><th scope=row>5</th><td>Qn1</td><td>Quebec</td><td>nonchilled</td><td> 500</td><td>35.3</td><td>1.5477747</td></tr>\n",
       "\t<tr><th scope=row>6</th><td>Qn1</td><td>Quebec</td><td>nonchilled</td><td> 675</td><td>39.2</td><td>1.5932861</td></tr>\n",
       "\t<tr><th scope=row>7</th><td>Qn1</td><td>Quebec</td><td>nonchilled</td><td>1000</td><td>39.7</td><td>1.5987905</td></tr>\n",
       "\t<tr><th scope=row>8</th><td>Qn2</td><td>Quebec</td><td>nonchilled</td><td>  95</td><td>13.6</td><td>1.1335389</td></tr>\n",
       "\t<tr><th scope=row>9</th><td>Qn2</td><td>Quebec</td><td>nonchilled</td><td> 175</td><td>27.3</td><td>1.4361626</td></tr>\n",
       "\t<tr><th scope=row>10</th><td>Qn2</td><td>Quebec</td><td>nonchilled</td><td> 250</td><td>37.1</td><td>1.5693739</td></tr>\n",
       "\t<tr><th scope=row>11</th><td>Qn2</td><td>Quebec</td><td>nonchilled</td><td> 350</td><td>41.8</td><td>1.6211763</td></tr>\n",
       "\t<tr><th scope=row>12</th><td>Qn2</td><td>Quebec</td><td>nonchilled</td><td> 500</td><td>40.6</td><td>1.6085260</td></tr>\n",
       "\t<tr><th scope=row>13</th><td>Qn2</td><td>Quebec</td><td>nonchilled</td><td> 675</td><td>41.4</td><td>1.6170003</td></tr>\n",
       "\t<tr><th scope=row>14</th><td>Qn2</td><td>Quebec</td><td>nonchilled</td><td>1000</td><td>44.3</td><td>1.6464037</td></tr>\n",
       "\t<tr><th scope=row>15</th><td>Qn3</td><td>Quebec</td><td>nonchilled</td><td>  95</td><td>16.2</td><td>1.2095150</td></tr>\n",
       "\t<tr><th scope=row>16</th><td>Qn3</td><td>Quebec</td><td>nonchilled</td><td> 175</td><td>32.4</td><td>1.5105450</td></tr>\n",
       "\t<tr><th scope=row>17</th><td>Qn3</td><td>Quebec</td><td>nonchilled</td><td> 250</td><td>40.3</td><td>1.6053050</td></tr>\n",
       "\t<tr><th scope=row>18</th><td>Qn3</td><td>Quebec</td><td>nonchilled</td><td> 350</td><td>42.1</td><td>1.6242821</td></tr>\n",
       "\t<tr><th scope=row>19</th><td>Qn3</td><td>Quebec</td><td>nonchilled</td><td> 500</td><td>42.9</td><td>1.6324573</td></tr>\n",
       "\t<tr><th scope=row>20</th><td>Qn3</td><td>Quebec</td><td>nonchilled</td><td> 675</td><td>43.9</td><td>1.6424645</td></tr>\n",
       "\t<tr><th scope=row>21</th><td>Qn3</td><td>Quebec</td><td>nonchilled</td><td>1000</td><td>45.5</td><td>1.6580114</td></tr>\n",
       "\t<tr><th scope=row>22</th><td>Qc1</td><td>Quebec</td><td>chilled   </td><td>  95</td><td>14.2</td><td>1.1522883</td></tr>\n",
       "\t<tr><th scope=row>23</th><td>Qc1</td><td>Quebec</td><td>chilled   </td><td> 175</td><td>24.1</td><td>1.3820170</td></tr>\n",
       "\t<tr><th scope=row>24</th><td>Qc1</td><td>Quebec</td><td>chilled   </td><td> 250</td><td>30.3</td><td>1.4814426</td></tr>\n",
       "\t<tr><th scope=row>25</th><td>Qc1</td><td>Quebec</td><td>chilled   </td><td> 350</td><td>34.6</td><td>1.5390761</td></tr>\n",
       "\t<tr><th scope=row>26</th><td>Qc1</td><td>Quebec</td><td>chilled   </td><td> 500</td><td>32.5</td><td>1.5118834</td></tr>\n",
       "\t<tr><th scope=row>27</th><td>Qc1</td><td>Quebec</td><td>chilled   </td><td> 675</td><td>35.4</td><td>1.5490033</td></tr>\n",
       "\t<tr><th scope=row>28</th><td>Qc1</td><td>Quebec</td><td>chilled   </td><td>1000</td><td>38.7</td><td>1.5877110</td></tr>\n",
       "\t<tr><th scope=row>29</th><td>Qc2</td><td>Quebec</td><td>chilled   </td><td>  95</td><td> 9.3</td><td>0.9684829</td></tr>\n",
       "\t<tr><th scope=row>30</th><td>Qc2</td><td>Quebec</td><td>chilled   </td><td> 175</td><td>27.3</td><td>1.4361626</td></tr>\n",
       "\t<tr><th scope=row>⋮</th><td>⋮</td><td>⋮</td><td>⋮</td><td>⋮</td><td>⋮</td><td>⋮</td></tr>\n",
       "\t<tr><th scope=row>55</th><td>Mn2</td><td>Mississippi</td><td>nonchilled</td><td> 675</td><td>31.1</td><td>1.4927604</td></tr>\n",
       "\t<tr><th scope=row>56</th><td>Mn2</td><td>Mississippi</td><td>nonchilled</td><td>1000</td><td>31.5</td><td>1.4983106</td></tr>\n",
       "\t<tr><th scope=row>57</th><td>Mn3</td><td>Mississippi</td><td>nonchilled</td><td>  95</td><td>11.3</td><td>1.0530784</td></tr>\n",
       "\t<tr><th scope=row>58</th><td>Mn3</td><td>Mississippi</td><td>nonchilled</td><td> 175</td><td>19.4</td><td>1.2878017</td></tr>\n",
       "\t<tr><th scope=row>59</th><td>Mn3</td><td>Mississippi</td><td>nonchilled</td><td> 250</td><td>25.8</td><td>1.4116197</td></tr>\n",
       "\t<tr><th scope=row>60</th><td>Mn3</td><td>Mississippi</td><td>nonchilled</td><td> 350</td><td>27.9</td><td>1.4456042</td></tr>\n",
       "\t<tr><th scope=row>61</th><td>Mn3</td><td>Mississippi</td><td>nonchilled</td><td> 500</td><td>28.5</td><td>1.4548449</td></tr>\n",
       "\t<tr><th scope=row>62</th><td>Mn3</td><td>Mississippi</td><td>nonchilled</td><td> 675</td><td>28.1</td><td>1.4487063</td></tr>\n",
       "\t<tr><th scope=row>63</th><td>Mn3</td><td>Mississippi</td><td>nonchilled</td><td>1000</td><td>27.8</td><td>1.4440448</td></tr>\n",
       "\t<tr><th scope=row>64</th><td>Mc1</td><td>Mississippi</td><td>chilled   </td><td>  95</td><td>10.5</td><td>1.0211893</td></tr>\n",
       "\t<tr><th scope=row>65</th><td>Mc1</td><td>Mississippi</td><td>chilled   </td><td> 175</td><td>14.9</td><td>1.1731863</td></tr>\n",
       "\t<tr><th scope=row>66</th><td>Mc1</td><td>Mississippi</td><td>chilled   </td><td> 250</td><td>18.1</td><td>1.2576786</td></tr>\n",
       "\t<tr><th scope=row>67</th><td>Mc1</td><td>Mississippi</td><td>chilled   </td><td> 350</td><td>18.9</td><td>1.2764618</td></tr>\n",
       "\t<tr><th scope=row>68</th><td>Mc1</td><td>Mississippi</td><td>chilled   </td><td> 500</td><td>19.5</td><td>1.2900346</td></tr>\n",
       "\t<tr><th scope=row>69</th><td>Mc1</td><td>Mississippi</td><td>chilled   </td><td> 675</td><td>22.2</td><td>1.3463530</td></tr>\n",
       "\t<tr><th scope=row>70</th><td>Mc1</td><td>Mississippi</td><td>chilled   </td><td>1000</td><td>21.9</td><td>1.3404441</td></tr>\n",
       "\t<tr><th scope=row>71</th><td>Mc2</td><td>Mississippi</td><td>chilled   </td><td>  95</td><td> 7.7</td><td>0.8864907</td></tr>\n",
       "\t<tr><th scope=row>72</th><td>Mc2</td><td>Mississippi</td><td>chilled   </td><td> 175</td><td>11.4</td><td>1.0569049</td></tr>\n",
       "\t<tr><th scope=row>73</th><td>Mc2</td><td>Mississippi</td><td>chilled   </td><td> 250</td><td>12.3</td><td>1.0899051</td></tr>\n",
       "\t<tr><th scope=row>74</th><td>Mc2</td><td>Mississippi</td><td>chilled   </td><td> 350</td><td>13.0</td><td>1.1139434</td></tr>\n",
       "\t<tr><th scope=row>75</th><td>Mc2</td><td>Mississippi</td><td>chilled   </td><td> 500</td><td>12.5</td><td>1.0969100</td></tr>\n",
       "\t<tr><th scope=row>76</th><td>Mc2</td><td>Mississippi</td><td>chilled   </td><td> 675</td><td>13.7</td><td>1.1367206</td></tr>\n",
       "\t<tr><th scope=row>77</th><td>Mc2</td><td>Mississippi</td><td>chilled   </td><td>1000</td><td>14.4</td><td>1.1583625</td></tr>\n",
       "\t<tr><th scope=row>78</th><td>Mc3</td><td>Mississippi</td><td>chilled   </td><td>  95</td><td>10.6</td><td>1.0253059</td></tr>\n",
       "\t<tr><th scope=row>79</th><td>Mc3</td><td>Mississippi</td><td>chilled   </td><td> 175</td><td>18.0</td><td>1.2552725</td></tr>\n",
       "\t<tr><th scope=row>80</th><td>Mc3</td><td>Mississippi</td><td>chilled   </td><td> 250</td><td>17.9</td><td>1.2528530</td></tr>\n",
       "\t<tr><th scope=row>81</th><td>Mc3</td><td>Mississippi</td><td>chilled   </td><td> 350</td><td>17.9</td><td>1.2528530</td></tr>\n",
       "\t<tr><th scope=row>82</th><td>Mc3</td><td>Mississippi</td><td>chilled   </td><td> 500</td><td>17.9</td><td>1.2528530</td></tr>\n",
       "\t<tr><th scope=row>83</th><td>Mc3</td><td>Mississippi</td><td>chilled   </td><td> 675</td><td>18.9</td><td>1.2764618</td></tr>\n",
       "\t<tr><th scope=row>84</th><td>Mc3</td><td>Mississippi</td><td>chilled   </td><td>1000</td><td>19.9</td><td>1.2988531</td></tr>\n",
       "</tbody>\n",
       "</table>\n"
      ],
      "text/latex": [
       "A nfnGroupedData: 84 × 6\n",
       "\\begin{tabular}{r|llllll}\n",
       "  & Plant & Type & Treatment & conc & uptake & CO2\\_log\\_uptake\\\\\n",
       "  & <ord> & <fct> & <fct> & <dbl> & <dbl> & <dbl>\\\\\n",
       "\\hline\n",
       "\t1 & Qn1 & Quebec & nonchilled &   95 & 16.0 & 1.2041200\\\\\n",
       "\t2 & Qn1 & Quebec & nonchilled &  175 & 30.4 & 1.4828736\\\\\n",
       "\t3 & Qn1 & Quebec & nonchilled &  250 & 34.8 & 1.5415792\\\\\n",
       "\t4 & Qn1 & Quebec & nonchilled &  350 & 37.2 & 1.5705429\\\\\n",
       "\t5 & Qn1 & Quebec & nonchilled &  500 & 35.3 & 1.5477747\\\\\n",
       "\t6 & Qn1 & Quebec & nonchilled &  675 & 39.2 & 1.5932861\\\\\n",
       "\t7 & Qn1 & Quebec & nonchilled & 1000 & 39.7 & 1.5987905\\\\\n",
       "\t8 & Qn2 & Quebec & nonchilled &   95 & 13.6 & 1.1335389\\\\\n",
       "\t9 & Qn2 & Quebec & nonchilled &  175 & 27.3 & 1.4361626\\\\\n",
       "\t10 & Qn2 & Quebec & nonchilled &  250 & 37.1 & 1.5693739\\\\\n",
       "\t11 & Qn2 & Quebec & nonchilled &  350 & 41.8 & 1.6211763\\\\\n",
       "\t12 & Qn2 & Quebec & nonchilled &  500 & 40.6 & 1.6085260\\\\\n",
       "\t13 & Qn2 & Quebec & nonchilled &  675 & 41.4 & 1.6170003\\\\\n",
       "\t14 & Qn2 & Quebec & nonchilled & 1000 & 44.3 & 1.6464037\\\\\n",
       "\t15 & Qn3 & Quebec & nonchilled &   95 & 16.2 & 1.2095150\\\\\n",
       "\t16 & Qn3 & Quebec & nonchilled &  175 & 32.4 & 1.5105450\\\\\n",
       "\t17 & Qn3 & Quebec & nonchilled &  250 & 40.3 & 1.6053050\\\\\n",
       "\t18 & Qn3 & Quebec & nonchilled &  350 & 42.1 & 1.6242821\\\\\n",
       "\t19 & Qn3 & Quebec & nonchilled &  500 & 42.9 & 1.6324573\\\\\n",
       "\t20 & Qn3 & Quebec & nonchilled &  675 & 43.9 & 1.6424645\\\\\n",
       "\t21 & Qn3 & Quebec & nonchilled & 1000 & 45.5 & 1.6580114\\\\\n",
       "\t22 & Qc1 & Quebec & chilled    &   95 & 14.2 & 1.1522883\\\\\n",
       "\t23 & Qc1 & Quebec & chilled    &  175 & 24.1 & 1.3820170\\\\\n",
       "\t24 & Qc1 & Quebec & chilled    &  250 & 30.3 & 1.4814426\\\\\n",
       "\t25 & Qc1 & Quebec & chilled    &  350 & 34.6 & 1.5390761\\\\\n",
       "\t26 & Qc1 & Quebec & chilled    &  500 & 32.5 & 1.5118834\\\\\n",
       "\t27 & Qc1 & Quebec & chilled    &  675 & 35.4 & 1.5490033\\\\\n",
       "\t28 & Qc1 & Quebec & chilled    & 1000 & 38.7 & 1.5877110\\\\\n",
       "\t29 & Qc2 & Quebec & chilled    &   95 &  9.3 & 0.9684829\\\\\n",
       "\t30 & Qc2 & Quebec & chilled    &  175 & 27.3 & 1.4361626\\\\\n",
       "\t⋮ & ⋮ & ⋮ & ⋮ & ⋮ & ⋮ & ⋮\\\\\n",
       "\t55 & Mn2 & Mississippi & nonchilled &  675 & 31.1 & 1.4927604\\\\\n",
       "\t56 & Mn2 & Mississippi & nonchilled & 1000 & 31.5 & 1.4983106\\\\\n",
       "\t57 & Mn3 & Mississippi & nonchilled &   95 & 11.3 & 1.0530784\\\\\n",
       "\t58 & Mn3 & Mississippi & nonchilled &  175 & 19.4 & 1.2878017\\\\\n",
       "\t59 & Mn3 & Mississippi & nonchilled &  250 & 25.8 & 1.4116197\\\\\n",
       "\t60 & Mn3 & Mississippi & nonchilled &  350 & 27.9 & 1.4456042\\\\\n",
       "\t61 & Mn3 & Mississippi & nonchilled &  500 & 28.5 & 1.4548449\\\\\n",
       "\t62 & Mn3 & Mississippi & nonchilled &  675 & 28.1 & 1.4487063\\\\\n",
       "\t63 & Mn3 & Mississippi & nonchilled & 1000 & 27.8 & 1.4440448\\\\\n",
       "\t64 & Mc1 & Mississippi & chilled    &   95 & 10.5 & 1.0211893\\\\\n",
       "\t65 & Mc1 & Mississippi & chilled    &  175 & 14.9 & 1.1731863\\\\\n",
       "\t66 & Mc1 & Mississippi & chilled    &  250 & 18.1 & 1.2576786\\\\\n",
       "\t67 & Mc1 & Mississippi & chilled    &  350 & 18.9 & 1.2764618\\\\\n",
       "\t68 & Mc1 & Mississippi & chilled    &  500 & 19.5 & 1.2900346\\\\\n",
       "\t69 & Mc1 & Mississippi & chilled    &  675 & 22.2 & 1.3463530\\\\\n",
       "\t70 & Mc1 & Mississippi & chilled    & 1000 & 21.9 & 1.3404441\\\\\n",
       "\t71 & Mc2 & Mississippi & chilled    &   95 &  7.7 & 0.8864907\\\\\n",
       "\t72 & Mc2 & Mississippi & chilled    &  175 & 11.4 & 1.0569049\\\\\n",
       "\t73 & Mc2 & Mississippi & chilled    &  250 & 12.3 & 1.0899051\\\\\n",
       "\t74 & Mc2 & Mississippi & chilled    &  350 & 13.0 & 1.1139434\\\\\n",
       "\t75 & Mc2 & Mississippi & chilled    &  500 & 12.5 & 1.0969100\\\\\n",
       "\t76 & Mc2 & Mississippi & chilled    &  675 & 13.7 & 1.1367206\\\\\n",
       "\t77 & Mc2 & Mississippi & chilled    & 1000 & 14.4 & 1.1583625\\\\\n",
       "\t78 & Mc3 & Mississippi & chilled    &   95 & 10.6 & 1.0253059\\\\\n",
       "\t79 & Mc3 & Mississippi & chilled    &  175 & 18.0 & 1.2552725\\\\\n",
       "\t80 & Mc3 & Mississippi & chilled    &  250 & 17.9 & 1.2528530\\\\\n",
       "\t81 & Mc3 & Mississippi & chilled    &  350 & 17.9 & 1.2528530\\\\\n",
       "\t82 & Mc3 & Mississippi & chilled    &  500 & 17.9 & 1.2528530\\\\\n",
       "\t83 & Mc3 & Mississippi & chilled    &  675 & 18.9 & 1.2764618\\\\\n",
       "\t84 & Mc3 & Mississippi & chilled    & 1000 & 19.9 & 1.2988531\\\\\n",
       "\\end{tabular}\n"
      ],
      "text/markdown": [
       "\n",
       "A nfnGroupedData: 84 × 6\n",
       "\n",
       "| <!--/--> | Plant &lt;ord&gt; | Type &lt;fct&gt; | Treatment &lt;fct&gt; | conc &lt;dbl&gt; | uptake &lt;dbl&gt; | CO2_log_uptake &lt;dbl&gt; |\n",
       "|---|---|---|---|---|---|---|\n",
       "| 1 | Qn1 | Quebec | nonchilled |   95 | 16.0 | 1.2041200 |\n",
       "| 2 | Qn1 | Quebec | nonchilled |  175 | 30.4 | 1.4828736 |\n",
       "| 3 | Qn1 | Quebec | nonchilled |  250 | 34.8 | 1.5415792 |\n",
       "| 4 | Qn1 | Quebec | nonchilled |  350 | 37.2 | 1.5705429 |\n",
       "| 5 | Qn1 | Quebec | nonchilled |  500 | 35.3 | 1.5477747 |\n",
       "| 6 | Qn1 | Quebec | nonchilled |  675 | 39.2 | 1.5932861 |\n",
       "| 7 | Qn1 | Quebec | nonchilled | 1000 | 39.7 | 1.5987905 |\n",
       "| 8 | Qn2 | Quebec | nonchilled |   95 | 13.6 | 1.1335389 |\n",
       "| 9 | Qn2 | Quebec | nonchilled |  175 | 27.3 | 1.4361626 |\n",
       "| 10 | Qn2 | Quebec | nonchilled |  250 | 37.1 | 1.5693739 |\n",
       "| 11 | Qn2 | Quebec | nonchilled |  350 | 41.8 | 1.6211763 |\n",
       "| 12 | Qn2 | Quebec | nonchilled |  500 | 40.6 | 1.6085260 |\n",
       "| 13 | Qn2 | Quebec | nonchilled |  675 | 41.4 | 1.6170003 |\n",
       "| 14 | Qn2 | Quebec | nonchilled | 1000 | 44.3 | 1.6464037 |\n",
       "| 15 | Qn3 | Quebec | nonchilled |   95 | 16.2 | 1.2095150 |\n",
       "| 16 | Qn3 | Quebec | nonchilled |  175 | 32.4 | 1.5105450 |\n",
       "| 17 | Qn3 | Quebec | nonchilled |  250 | 40.3 | 1.6053050 |\n",
       "| 18 | Qn3 | Quebec | nonchilled |  350 | 42.1 | 1.6242821 |\n",
       "| 19 | Qn3 | Quebec | nonchilled |  500 | 42.9 | 1.6324573 |\n",
       "| 20 | Qn3 | Quebec | nonchilled |  675 | 43.9 | 1.6424645 |\n",
       "| 21 | Qn3 | Quebec | nonchilled | 1000 | 45.5 | 1.6580114 |\n",
       "| 22 | Qc1 | Quebec | chilled    |   95 | 14.2 | 1.1522883 |\n",
       "| 23 | Qc1 | Quebec | chilled    |  175 | 24.1 | 1.3820170 |\n",
       "| 24 | Qc1 | Quebec | chilled    |  250 | 30.3 | 1.4814426 |\n",
       "| 25 | Qc1 | Quebec | chilled    |  350 | 34.6 | 1.5390761 |\n",
       "| 26 | Qc1 | Quebec | chilled    |  500 | 32.5 | 1.5118834 |\n",
       "| 27 | Qc1 | Quebec | chilled    |  675 | 35.4 | 1.5490033 |\n",
       "| 28 | Qc1 | Quebec | chilled    | 1000 | 38.7 | 1.5877110 |\n",
       "| 29 | Qc2 | Quebec | chilled    |   95 |  9.3 | 0.9684829 |\n",
       "| 30 | Qc2 | Quebec | chilled    |  175 | 27.3 | 1.4361626 |\n",
       "| ⋮ | ⋮ | ⋮ | ⋮ | ⋮ | ⋮ | ⋮ |\n",
       "| 55 | Mn2 | Mississippi | nonchilled |  675 | 31.1 | 1.4927604 |\n",
       "| 56 | Mn2 | Mississippi | nonchilled | 1000 | 31.5 | 1.4983106 |\n",
       "| 57 | Mn3 | Mississippi | nonchilled |   95 | 11.3 | 1.0530784 |\n",
       "| 58 | Mn3 | Mississippi | nonchilled |  175 | 19.4 | 1.2878017 |\n",
       "| 59 | Mn3 | Mississippi | nonchilled |  250 | 25.8 | 1.4116197 |\n",
       "| 60 | Mn3 | Mississippi | nonchilled |  350 | 27.9 | 1.4456042 |\n",
       "| 61 | Mn3 | Mississippi | nonchilled |  500 | 28.5 | 1.4548449 |\n",
       "| 62 | Mn3 | Mississippi | nonchilled |  675 | 28.1 | 1.4487063 |\n",
       "| 63 | Mn3 | Mississippi | nonchilled | 1000 | 27.8 | 1.4440448 |\n",
       "| 64 | Mc1 | Mississippi | chilled    |   95 | 10.5 | 1.0211893 |\n",
       "| 65 | Mc1 | Mississippi | chilled    |  175 | 14.9 | 1.1731863 |\n",
       "| 66 | Mc1 | Mississippi | chilled    |  250 | 18.1 | 1.2576786 |\n",
       "| 67 | Mc1 | Mississippi | chilled    |  350 | 18.9 | 1.2764618 |\n",
       "| 68 | Mc1 | Mississippi | chilled    |  500 | 19.5 | 1.2900346 |\n",
       "| 69 | Mc1 | Mississippi | chilled    |  675 | 22.2 | 1.3463530 |\n",
       "| 70 | Mc1 | Mississippi | chilled    | 1000 | 21.9 | 1.3404441 |\n",
       "| 71 | Mc2 | Mississippi | chilled    |   95 |  7.7 | 0.8864907 |\n",
       "| 72 | Mc2 | Mississippi | chilled    |  175 | 11.4 | 1.0569049 |\n",
       "| 73 | Mc2 | Mississippi | chilled    |  250 | 12.3 | 1.0899051 |\n",
       "| 74 | Mc2 | Mississippi | chilled    |  350 | 13.0 | 1.1139434 |\n",
       "| 75 | Mc2 | Mississippi | chilled    |  500 | 12.5 | 1.0969100 |\n",
       "| 76 | Mc2 | Mississippi | chilled    |  675 | 13.7 | 1.1367206 |\n",
       "| 77 | Mc2 | Mississippi | chilled    | 1000 | 14.4 | 1.1583625 |\n",
       "| 78 | Mc3 | Mississippi | chilled    |   95 | 10.6 | 1.0253059 |\n",
       "| 79 | Mc3 | Mississippi | chilled    |  175 | 18.0 | 1.2552725 |\n",
       "| 80 | Mc3 | Mississippi | chilled    |  250 | 17.9 | 1.2528530 |\n",
       "| 81 | Mc3 | Mississippi | chilled    |  350 | 17.9 | 1.2528530 |\n",
       "| 82 | Mc3 | Mississippi | chilled    |  500 | 17.9 | 1.2528530 |\n",
       "| 83 | Mc3 | Mississippi | chilled    |  675 | 18.9 | 1.2764618 |\n",
       "| 84 | Mc3 | Mississippi | chilled    | 1000 | 19.9 | 1.2988531 |\n",
       "\n"
      ],
      "text/plain": [
       "   Plant Type        Treatment  conc uptake CO2_log_uptake\n",
       "1  Qn1   Quebec      nonchilled   95 16.0   1.2041200     \n",
       "2  Qn1   Quebec      nonchilled  175 30.4   1.4828736     \n",
       "3  Qn1   Quebec      nonchilled  250 34.8   1.5415792     \n",
       "4  Qn1   Quebec      nonchilled  350 37.2   1.5705429     \n",
       "5  Qn1   Quebec      nonchilled  500 35.3   1.5477747     \n",
       "6  Qn1   Quebec      nonchilled  675 39.2   1.5932861     \n",
       "7  Qn1   Quebec      nonchilled 1000 39.7   1.5987905     \n",
       "8  Qn2   Quebec      nonchilled   95 13.6   1.1335389     \n",
       "9  Qn2   Quebec      nonchilled  175 27.3   1.4361626     \n",
       "10 Qn2   Quebec      nonchilled  250 37.1   1.5693739     \n",
       "11 Qn2   Quebec      nonchilled  350 41.8   1.6211763     \n",
       "12 Qn2   Quebec      nonchilled  500 40.6   1.6085260     \n",
       "13 Qn2   Quebec      nonchilled  675 41.4   1.6170003     \n",
       "14 Qn2   Quebec      nonchilled 1000 44.3   1.6464037     \n",
       "15 Qn3   Quebec      nonchilled   95 16.2   1.2095150     \n",
       "16 Qn3   Quebec      nonchilled  175 32.4   1.5105450     \n",
       "17 Qn3   Quebec      nonchilled  250 40.3   1.6053050     \n",
       "18 Qn3   Quebec      nonchilled  350 42.1   1.6242821     \n",
       "19 Qn3   Quebec      nonchilled  500 42.9   1.6324573     \n",
       "20 Qn3   Quebec      nonchilled  675 43.9   1.6424645     \n",
       "21 Qn3   Quebec      nonchilled 1000 45.5   1.6580114     \n",
       "22 Qc1   Quebec      chilled      95 14.2   1.1522883     \n",
       "23 Qc1   Quebec      chilled     175 24.1   1.3820170     \n",
       "24 Qc1   Quebec      chilled     250 30.3   1.4814426     \n",
       "25 Qc1   Quebec      chilled     350 34.6   1.5390761     \n",
       "26 Qc1   Quebec      chilled     500 32.5   1.5118834     \n",
       "27 Qc1   Quebec      chilled     675 35.4   1.5490033     \n",
       "28 Qc1   Quebec      chilled    1000 38.7   1.5877110     \n",
       "29 Qc2   Quebec      chilled      95  9.3   0.9684829     \n",
       "30 Qc2   Quebec      chilled     175 27.3   1.4361626     \n",
       "⋮  ⋮     ⋮           ⋮          ⋮    ⋮      ⋮             \n",
       "55 Mn2   Mississippi nonchilled  675 31.1   1.4927604     \n",
       "56 Mn2   Mississippi nonchilled 1000 31.5   1.4983106     \n",
       "57 Mn3   Mississippi nonchilled   95 11.3   1.0530784     \n",
       "58 Mn3   Mississippi nonchilled  175 19.4   1.2878017     \n",
       "59 Mn3   Mississippi nonchilled  250 25.8   1.4116197     \n",
       "60 Mn3   Mississippi nonchilled  350 27.9   1.4456042     \n",
       "61 Mn3   Mississippi nonchilled  500 28.5   1.4548449     \n",
       "62 Mn3   Mississippi nonchilled  675 28.1   1.4487063     \n",
       "63 Mn3   Mississippi nonchilled 1000 27.8   1.4440448     \n",
       "64 Mc1   Mississippi chilled      95 10.5   1.0211893     \n",
       "65 Mc1   Mississippi chilled     175 14.9   1.1731863     \n",
       "66 Mc1   Mississippi chilled     250 18.1   1.2576786     \n",
       "67 Mc1   Mississippi chilled     350 18.9   1.2764618     \n",
       "68 Mc1   Mississippi chilled     500 19.5   1.2900346     \n",
       "69 Mc1   Mississippi chilled     675 22.2   1.3463530     \n",
       "70 Mc1   Mississippi chilled    1000 21.9   1.3404441     \n",
       "71 Mc2   Mississippi chilled      95  7.7   0.8864907     \n",
       "72 Mc2   Mississippi chilled     175 11.4   1.0569049     \n",
       "73 Mc2   Mississippi chilled     250 12.3   1.0899051     \n",
       "74 Mc2   Mississippi chilled     350 13.0   1.1139434     \n",
       "75 Mc2   Mississippi chilled     500 12.5   1.0969100     \n",
       "76 Mc2   Mississippi chilled     675 13.7   1.1367206     \n",
       "77 Mc2   Mississippi chilled    1000 14.4   1.1583625     \n",
       "78 Mc3   Mississippi chilled      95 10.6   1.0253059     \n",
       "79 Mc3   Mississippi chilled     175 18.0   1.2552725     \n",
       "80 Mc3   Mississippi chilled     250 17.9   1.2528530     \n",
       "81 Mc3   Mississippi chilled     350 17.9   1.2528530     \n",
       "82 Mc3   Mississippi chilled     500 17.9   1.2528530     \n",
       "83 Mc3   Mississippi chilled     675 18.9   1.2764618     \n",
       "84 Mc3   Mississippi chilled    1000 19.9   1.2988531     "
      ]
     },
     "metadata": {},
     "output_type": "display_data"
    }
   ],
   "source": [
    "CO2"
   ]
  },
  {
   "cell_type": "markdown",
   "id": "4a8cf4ba",
   "metadata": {},
   "source": [
    "**Funkcja summarize()** - raportowanie statystyk opisowych: \n",
    "\n",
    "summarize(tabela_danych, nazwa_statystyki1 = funkcja_statystyczna(zmienna), nazwa_statystyki2 = funkcja_statystyczna(zmienna), …) gdzie „funkcja_statystyczna” wskazuje, jaka statystyka ma być obliczona dla danej kolumny (zmiennej), np. count(), mean(), median(), max(), min(), sd()"
   ]
  },
  {
   "cell_type": "code",
   "execution_count": 30,
   "id": "a0f0185a",
   "metadata": {},
   "outputs": [
    {
     "data": {
      "text/html": [
       "<table class=\"dataframe\">\n",
       "<caption>A data.frame: 1 × 4</caption>\n",
       "<thead>\n",
       "\t<tr><th scope=col>srednia_conc</th><th scope=col>sd_conc</th><th scope=col>srednia_uptake</th><th scope=col>sd_uptake</th></tr>\n",
       "\t<tr><th scope=col>&lt;dbl&gt;</th><th scope=col>&lt;dbl&gt;</th><th scope=col>&lt;dbl&gt;</th><th scope=col>&lt;dbl&gt;</th></tr>\n",
       "</thead>\n",
       "<tbody>\n",
       "\t<tr><td>435</td><td>295.9241</td><td>27.2131</td><td>10.81441</td></tr>\n",
       "</tbody>\n",
       "</table>\n"
      ],
      "text/latex": [
       "A data.frame: 1 × 4\n",
       "\\begin{tabular}{llll}\n",
       " srednia\\_conc & sd\\_conc & srednia\\_uptake & sd\\_uptake\\\\\n",
       " <dbl> & <dbl> & <dbl> & <dbl>\\\\\n",
       "\\hline\n",
       "\t 435 & 295.9241 & 27.2131 & 10.81441\\\\\n",
       "\\end{tabular}\n"
      ],
      "text/markdown": [
       "\n",
       "A data.frame: 1 × 4\n",
       "\n",
       "| srednia_conc &lt;dbl&gt; | sd_conc &lt;dbl&gt; | srednia_uptake &lt;dbl&gt; | sd_uptake &lt;dbl&gt; |\n",
       "|---|---|---|---|\n",
       "| 435 | 295.9241 | 27.2131 | 10.81441 |\n",
       "\n"
      ],
      "text/plain": [
       "  srednia_conc sd_conc  srednia_uptake sd_uptake\n",
       "1 435          295.9241 27.2131        10.81441 "
      ]
     },
     "metadata": {},
     "output_type": "display_data"
    }
   ],
   "source": [
    "# Wygeneruj tabelę CO2_mean_sd z wartościami średnimi i odchyleniami standardowymi dla conc i uptake.\n",
    "CO2_mean_sd <- summarize(CO2, srednia_conc=mean(conc),sd_conc=sd(conc), srednia_uptake=mean(uptake),sd_uptake=sd(uptake) )\n",
    "CO2_mean_sd"
   ]
  },
  {
   "cell_type": "code",
   "execution_count": 31,
   "id": "ebac32b1",
   "metadata": {},
   "outputs": [
    {
     "data": {
      "text/plain": [
       "     Plant             Type         Treatment       conc          uptake     \n",
       " Qn1    : 7   Quebec     :42   nonchilled:42   Min.   :  95   Min.   : 7.70  \n",
       " Qn2    : 7   Mississippi:42   chilled   :42   1st Qu.: 175   1st Qu.:17.90  \n",
       " Qn3    : 7                                    Median : 350   Median :28.30  \n",
       " Qc1    : 7                                    Mean   : 435   Mean   :27.21  \n",
       " Qc3    : 7                                    3rd Qu.: 675   3rd Qu.:37.12  \n",
       " Qc2    : 7                                    Max.   :1000   Max.   :45.50  \n",
       " (Other):42                                                                  \n",
       " CO2_log_uptake  \n",
       " Min.   :0.8865  \n",
       " 1st Qu.:1.2529  \n",
       " Median :1.4518  \n",
       " Mean   :1.3937  \n",
       " 3rd Qu.:1.5697  \n",
       " Max.   :1.6580  \n",
       "                 "
      ]
     },
     "metadata": {},
     "output_type": "display_data"
    }
   ],
   "source": [
    "# Wygeneruj tabelę z podsumowaniem danych CO2 przy pomocy standardowej funkcji summary().\n",
    "summary(CO2)"
   ]
  },
  {
   "cell_type": "markdown",
   "id": "fc1496bf",
   "metadata": {},
   "source": [
    "**Pipeline („rurociąg”)** uproszczony opis wykonania sekwencji funkcji, w której wynik jednej funkcji jest używany jako dane wejściowe dla następnej. Sekwencję komend: wynik1 <- funkcja1(tabela_danych, inne_argumenty1) wynik2 <- funkcja2(wynik1, inne_argumenty argumenty2) wynik_koncowy <- funkcja3(wynik2, inne_argumenty3) można zapisać jako pipeline używając złożonego symbolu %>% : wynik_koncowy <- funkcja1(tabela_danych, inne_argumenty) %>% funkcja2(argumenty) %>% funkcja3(argumenty)"
   ]
  },
  {
   "cell_type": "code",
   "execution_count": 32,
   "id": "561efc60",
   "metadata": {
    "scrolled": true
   },
   "outputs": [
    {
     "name": "stderr",
     "output_type": "stream",
     "text": [
      "Warning message:\n",
      "“\u001b[1m\u001b[22mReturning more (or less) than 1 row per `summarise()` group was deprecated in\n",
      "dplyr 1.1.0.\n",
      "\u001b[36mℹ\u001b[39m Please use `reframe()` instead.\n",
      "\u001b[36mℹ\u001b[39m When switching from `summarise()` to `reframe()`, remember that `reframe()`\n",
      "  always returns an ungrouped data frame and adjust accordingly.”\n"
     ]
    },
    {
     "data": {
      "text/html": [
       "<table class=\"dataframe\">\n",
       "<caption>A data.frame: 1 × 1</caption>\n",
       "<thead>\n",
       "\t<tr><th scope=col>mean_conc</th></tr>\n",
       "\t<tr><th scope=col>&lt;dbl&gt;</th></tr>\n",
       "</thead>\n",
       "<tbody>\n",
       "\t<tr><td>19.63706</td></tr>\n",
       "</tbody>\n",
       "</table>\n"
      ],
      "text/latex": [
       "A data.frame: 1 × 1\n",
       "\\begin{tabular}{l}\n",
       " mean\\_conc\\\\\n",
       " <dbl>\\\\\n",
       "\\hline\n",
       "\t 19.63706\\\\\n",
       "\\end{tabular}\n"
      ],
      "text/markdown": [
       "\n",
       "A data.frame: 1 × 1\n",
       "\n",
       "| mean_conc &lt;dbl&gt; |\n",
       "|---|\n",
       "| 19.63706 |\n",
       "\n"
      ],
      "text/plain": [
       "  mean_conc\n",
       "1 19.63706 "
      ]
     },
     "metadata": {},
     "output_type": "display_data"
    }
   ],
   "source": [
    "# Utwórz przy pomocy zapisu pipeline zmienną zawierającą wartość średnią z pierwiastka kadratowego wartości conc, obliczoną funkcją summarize, ale tylko dla obserwacji Type=Quebec, i pokaż zmienną wynikową. \n",
    "CO2  %>% filter(Type == 'Quebec')  %>% summarize(sqrt_conc = sqrt(CO2$conc))  %>% summarize(mean_conc = mean(sqrt_conc))"
   ]
  },
  {
   "cell_type": "markdown",
   "id": "34372a88",
   "metadata": {},
   "source": [
    "**group_by**(tabela_danych, kolumna_definiująca_grupy) Po takim poleceniu, dalsze funkcje z pakietu dplyr będą wykonywane z podziałem na grupy, aż do odwołania. **ungroup**(tabela_danych) – odwołuje grupowanie dla danej tabeli danych."
   ]
  },
  {
   "cell_type": "code",
   "execution_count": 33,
   "id": "9f087346",
   "metadata": {},
   "outputs": [
    {
     "data": {
      "text/html": [
       "<table class=\"dataframe\">\n",
       "<caption>A tibble: 2 × 5</caption>\n",
       "<thead>\n",
       "\t<tr><th scope=col>Treatment</th><th scope=col>srednia_conc</th><th scope=col>sd_conc</th><th scope=col>srednia_uptake</th><th scope=col>sd_uptake</th></tr>\n",
       "\t<tr><th scope=col>&lt;fct&gt;</th><th scope=col>&lt;dbl&gt;</th><th scope=col>&lt;dbl&gt;</th><th scope=col>&lt;dbl&gt;</th><th scope=col>&lt;dbl&gt;</th></tr>\n",
       "</thead>\n",
       "<tbody>\n",
       "\t<tr><td>nonchilled</td><td>435</td><td>297.7231</td><td>30.64286</td><td> 9.704994</td></tr>\n",
       "\t<tr><td>chilled   </td><td>435</td><td>297.7231</td><td>23.78333</td><td>10.884312</td></tr>\n",
       "</tbody>\n",
       "</table>\n"
      ],
      "text/latex": [
       "A tibble: 2 × 5\n",
       "\\begin{tabular}{lllll}\n",
       " Treatment & srednia\\_conc & sd\\_conc & srednia\\_uptake & sd\\_uptake\\\\\n",
       " <fct> & <dbl> & <dbl> & <dbl> & <dbl>\\\\\n",
       "\\hline\n",
       "\t nonchilled & 435 & 297.7231 & 30.64286 &  9.704994\\\\\n",
       "\t chilled    & 435 & 297.7231 & 23.78333 & 10.884312\\\\\n",
       "\\end{tabular}\n"
      ],
      "text/markdown": [
       "\n",
       "A tibble: 2 × 5\n",
       "\n",
       "| Treatment &lt;fct&gt; | srednia_conc &lt;dbl&gt; | sd_conc &lt;dbl&gt; | srednia_uptake &lt;dbl&gt; | sd_uptake &lt;dbl&gt; |\n",
       "|---|---|---|---|---|\n",
       "| nonchilled | 435 | 297.7231 | 30.64286 |  9.704994 |\n",
       "| chilled    | 435 | 297.7231 | 23.78333 | 10.884312 |\n",
       "\n"
      ],
      "text/plain": [
       "  Treatment  srednia_conc sd_conc  srednia_uptake sd_uptake\n",
       "1 nonchilled 435          297.7231 30.64286        9.704994\n",
       "2 chilled    435          297.7231 23.78333       10.884312"
      ]
     },
     "metadata": {},
     "output_type": "display_data"
    }
   ],
   "source": [
    "#Wygeneruj tabelę CO2_by_Treat z wartościami średnimi i odchyleniami standardowymi dla conc i uptake ale z podziałem na grupy wg wartości zmiennej Treatment.\n",
    "CO2_group <- group_by(CO2,Treatment)\n",
    "CO2_by_Treat  <- summarize(CO2_group, srednia_conc=mean(conc),sd_conc=sd(conc), srednia_uptake=mean(uptake),sd_uptake=sd(uptake) )\n",
    "CO2_by_Treat"
   ]
  },
  {
   "cell_type": "markdown",
   "id": "b8d05718",
   "metadata": {},
   "source": [
    "**“Poziome” łączenie** kolumn z różnych tabel danych funkcjami z „rodziny” join():, np.: połączona_tabela <- inner_join(tabela1, tabela2, by = “kolumna_klucz”) Ważne: Inaczej niż w przypadku standardowej funkcji cbind(), dane są łączone przy pomocy kolumny-klucza (albo więcej niż jednego klucza), która pozwala na dopasowanie wierszy z dwóch tabel wejściowych. Oczywiście obie tabele muszą mieć kolumnę/kolumny z kluczem (zwykle o tej samej nazwie w obu plikach, choć możliwe jest łączenie także gdy nazwy kolumn sa różne), które mogą być użyte jako identyfikatory rekordów. Kolumny klucza podawane są jako wektor znakowy, dlatego nazwę kolumny-klucza podajemy w cudzysłowie. Poszczególne odmiany funkcji join() różnią się tym, w jaki sposób tworzona jest tabela wtedy, gdy nie wszystkie wiersze do siebie pasują:\n",
    "- inner_join(): zostawia tylko te wiersze, które występują w obu tabelach;\n",
    "- right_join(): zostawia wszystkie wiersze tabeli1, a jeśli tabela2 takich nie ma, wstawia NA;\n",
    "- left_join(): zostawia wszystkie wiersze tabeli2, a jeśli tabela1 takich nie ma, wstawia NA;\n",
    "- full_join(): zachowuje wszystkie wiersze z tabeli 1 i 2, a dla wierszy niepasujących braki wypełnia NA."
   ]
  },
  {
   "cell_type": "code",
   "execution_count": 34,
   "id": "3db1e32a",
   "metadata": {},
   "outputs": [],
   "source": [
    "data1 <- read.table(\"Dane_do_join_v1.txt\", header=T, sep='\\t')\n",
    "data2 <- read.table(\"Dane_do_join_v2.txt\", header=T, sep='\\t')"
   ]
  },
  {
   "cell_type": "code",
   "execution_count": 35,
   "id": "ae632382",
   "metadata": {},
   "outputs": [],
   "source": [
    "inner_join <-  inner_join(data1, data2, by = \"ID\") \n",
    "right_join <- right_join(data1, data2, by = \"ID\")\n",
    "left_join <- left_join(data1, data2, by = \"ID\")\n",
    "full_join <- full_join(data1, data2, by = \"ID\")"
   ]
  },
  {
   "cell_type": "code",
   "execution_count": 36,
   "id": "a1c279af",
   "metadata": {
    "scrolled": true
   },
   "outputs": [
    {
     "data": {
      "text/html": [
       "<table class=\"dataframe\">\n",
       "<caption>A data.frame: 5 × 2</caption>\n",
       "<thead>\n",
       "\t<tr><th scope=col>ID</th><th scope=col>M1</th></tr>\n",
       "\t<tr><th scope=col>&lt;int&gt;</th><th scope=col>&lt;int&gt;</th></tr>\n",
       "</thead>\n",
       "<tbody>\n",
       "\t<tr><td>1</td><td>22</td></tr>\n",
       "\t<tr><td>2</td><td>21</td></tr>\n",
       "\t<tr><td>4</td><td>19</td></tr>\n",
       "\t<tr><td>5</td><td>23</td></tr>\n",
       "\t<tr><td>6</td><td>20</td></tr>\n",
       "</tbody>\n",
       "</table>\n"
      ],
      "text/latex": [
       "A data.frame: 5 × 2\n",
       "\\begin{tabular}{ll}\n",
       " ID & M1\\\\\n",
       " <int> & <int>\\\\\n",
       "\\hline\n",
       "\t 1 & 22\\\\\n",
       "\t 2 & 21\\\\\n",
       "\t 4 & 19\\\\\n",
       "\t 5 & 23\\\\\n",
       "\t 6 & 20\\\\\n",
       "\\end{tabular}\n"
      ],
      "text/markdown": [
       "\n",
       "A data.frame: 5 × 2\n",
       "\n",
       "| ID &lt;int&gt; | M1 &lt;int&gt; |\n",
       "|---|---|\n",
       "| 1 | 22 |\n",
       "| 2 | 21 |\n",
       "| 4 | 19 |\n",
       "| 5 | 23 |\n",
       "| 6 | 20 |\n",
       "\n"
      ],
      "text/plain": [
       "  ID M1\n",
       "1 1  22\n",
       "2 2  21\n",
       "3 4  19\n",
       "4 5  23\n",
       "5 6  20"
      ]
     },
     "metadata": {},
     "output_type": "display_data"
    },
    {
     "data": {
      "text/html": [
       "<table class=\"dataframe\">\n",
       "<caption>A data.frame: 4 × 2</caption>\n",
       "<thead>\n",
       "\t<tr><th scope=col>ID</th><th scope=col>M2</th></tr>\n",
       "\t<tr><th scope=col>&lt;int&gt;</th><th scope=col>&lt;int&gt;</th></tr>\n",
       "</thead>\n",
       "<tbody>\n",
       "\t<tr><td>1</td><td>23</td></tr>\n",
       "\t<tr><td>3</td><td>22</td></tr>\n",
       "\t<tr><td>5</td><td>24</td></tr>\n",
       "\t<tr><td>6</td><td>25</td></tr>\n",
       "</tbody>\n",
       "</table>\n"
      ],
      "text/latex": [
       "A data.frame: 4 × 2\n",
       "\\begin{tabular}{ll}\n",
       " ID & M2\\\\\n",
       " <int> & <int>\\\\\n",
       "\\hline\n",
       "\t 1 & 23\\\\\n",
       "\t 3 & 22\\\\\n",
       "\t 5 & 24\\\\\n",
       "\t 6 & 25\\\\\n",
       "\\end{tabular}\n"
      ],
      "text/markdown": [
       "\n",
       "A data.frame: 4 × 2\n",
       "\n",
       "| ID &lt;int&gt; | M2 &lt;int&gt; |\n",
       "|---|---|\n",
       "| 1 | 23 |\n",
       "| 3 | 22 |\n",
       "| 5 | 24 |\n",
       "| 6 | 25 |\n",
       "\n"
      ],
      "text/plain": [
       "  ID M2\n",
       "1 1  23\n",
       "2 3  22\n",
       "3 5  24\n",
       "4 6  25"
      ]
     },
     "metadata": {},
     "output_type": "display_data"
    },
    {
     "data": {
      "text/html": [
       "<table class=\"dataframe\">\n",
       "<caption>A data.frame: 3 × 3</caption>\n",
       "<thead>\n",
       "\t<tr><th scope=col>ID</th><th scope=col>M1</th><th scope=col>M2</th></tr>\n",
       "\t<tr><th scope=col>&lt;int&gt;</th><th scope=col>&lt;int&gt;</th><th scope=col>&lt;int&gt;</th></tr>\n",
       "</thead>\n",
       "<tbody>\n",
       "\t<tr><td>1</td><td>22</td><td>23</td></tr>\n",
       "\t<tr><td>5</td><td>23</td><td>24</td></tr>\n",
       "\t<tr><td>6</td><td>20</td><td>25</td></tr>\n",
       "</tbody>\n",
       "</table>\n"
      ],
      "text/latex": [
       "A data.frame: 3 × 3\n",
       "\\begin{tabular}{lll}\n",
       " ID & M1 & M2\\\\\n",
       " <int> & <int> & <int>\\\\\n",
       "\\hline\n",
       "\t 1 & 22 & 23\\\\\n",
       "\t 5 & 23 & 24\\\\\n",
       "\t 6 & 20 & 25\\\\\n",
       "\\end{tabular}\n"
      ],
      "text/markdown": [
       "\n",
       "A data.frame: 3 × 3\n",
       "\n",
       "| ID &lt;int&gt; | M1 &lt;int&gt; | M2 &lt;int&gt; |\n",
       "|---|---|---|\n",
       "| 1 | 22 | 23 |\n",
       "| 5 | 23 | 24 |\n",
       "| 6 | 20 | 25 |\n",
       "\n"
      ],
      "text/plain": [
       "  ID M1 M2\n",
       "1 1  22 23\n",
       "2 5  23 24\n",
       "3 6  20 25"
      ]
     },
     "metadata": {},
     "output_type": "display_data"
    },
    {
     "data": {
      "text/html": [
       "<table class=\"dataframe\">\n",
       "<caption>A data.frame: 4 × 3</caption>\n",
       "<thead>\n",
       "\t<tr><th scope=col>ID</th><th scope=col>M1</th><th scope=col>M2</th></tr>\n",
       "\t<tr><th scope=col>&lt;int&gt;</th><th scope=col>&lt;int&gt;</th><th scope=col>&lt;int&gt;</th></tr>\n",
       "</thead>\n",
       "<tbody>\n",
       "\t<tr><td>1</td><td>22</td><td>23</td></tr>\n",
       "\t<tr><td>5</td><td>23</td><td>24</td></tr>\n",
       "\t<tr><td>6</td><td>20</td><td>25</td></tr>\n",
       "\t<tr><td>3</td><td>NA</td><td>22</td></tr>\n",
       "</tbody>\n",
       "</table>\n"
      ],
      "text/latex": [
       "A data.frame: 4 × 3\n",
       "\\begin{tabular}{lll}\n",
       " ID & M1 & M2\\\\\n",
       " <int> & <int> & <int>\\\\\n",
       "\\hline\n",
       "\t 1 & 22 & 23\\\\\n",
       "\t 5 & 23 & 24\\\\\n",
       "\t 6 & 20 & 25\\\\\n",
       "\t 3 & NA & 22\\\\\n",
       "\\end{tabular}\n"
      ],
      "text/markdown": [
       "\n",
       "A data.frame: 4 × 3\n",
       "\n",
       "| ID &lt;int&gt; | M1 &lt;int&gt; | M2 &lt;int&gt; |\n",
       "|---|---|---|\n",
       "| 1 | 22 | 23 |\n",
       "| 5 | 23 | 24 |\n",
       "| 6 | 20 | 25 |\n",
       "| 3 | NA | 22 |\n",
       "\n"
      ],
      "text/plain": [
       "  ID M1 M2\n",
       "1 1  22 23\n",
       "2 5  23 24\n",
       "3 6  20 25\n",
       "4 3  NA 22"
      ]
     },
     "metadata": {},
     "output_type": "display_data"
    },
    {
     "data": {
      "text/html": [
       "<table class=\"dataframe\">\n",
       "<caption>A data.frame: 5 × 3</caption>\n",
       "<thead>\n",
       "\t<tr><th scope=col>ID</th><th scope=col>M1</th><th scope=col>M2</th></tr>\n",
       "\t<tr><th scope=col>&lt;int&gt;</th><th scope=col>&lt;int&gt;</th><th scope=col>&lt;int&gt;</th></tr>\n",
       "</thead>\n",
       "<tbody>\n",
       "\t<tr><td>1</td><td>22</td><td>23</td></tr>\n",
       "\t<tr><td>2</td><td>21</td><td>NA</td></tr>\n",
       "\t<tr><td>4</td><td>19</td><td>NA</td></tr>\n",
       "\t<tr><td>5</td><td>23</td><td>24</td></tr>\n",
       "\t<tr><td>6</td><td>20</td><td>25</td></tr>\n",
       "</tbody>\n",
       "</table>\n"
      ],
      "text/latex": [
       "A data.frame: 5 × 3\n",
       "\\begin{tabular}{lll}\n",
       " ID & M1 & M2\\\\\n",
       " <int> & <int> & <int>\\\\\n",
       "\\hline\n",
       "\t 1 & 22 & 23\\\\\n",
       "\t 2 & 21 & NA\\\\\n",
       "\t 4 & 19 & NA\\\\\n",
       "\t 5 & 23 & 24\\\\\n",
       "\t 6 & 20 & 25\\\\\n",
       "\\end{tabular}\n"
      ],
      "text/markdown": [
       "\n",
       "A data.frame: 5 × 3\n",
       "\n",
       "| ID &lt;int&gt; | M1 &lt;int&gt; | M2 &lt;int&gt; |\n",
       "|---|---|---|\n",
       "| 1 | 22 | 23 |\n",
       "| 2 | 21 | NA |\n",
       "| 4 | 19 | NA |\n",
       "| 5 | 23 | 24 |\n",
       "| 6 | 20 | 25 |\n",
       "\n"
      ],
      "text/plain": [
       "  ID M1 M2\n",
       "1 1  22 23\n",
       "2 2  21 NA\n",
       "3 4  19 NA\n",
       "4 5  23 24\n",
       "5 6  20 25"
      ]
     },
     "metadata": {},
     "output_type": "display_data"
    },
    {
     "data": {
      "text/html": [
       "<table class=\"dataframe\">\n",
       "<caption>A data.frame: 6 × 3</caption>\n",
       "<thead>\n",
       "\t<tr><th scope=col>ID</th><th scope=col>M1</th><th scope=col>M2</th></tr>\n",
       "\t<tr><th scope=col>&lt;int&gt;</th><th scope=col>&lt;int&gt;</th><th scope=col>&lt;int&gt;</th></tr>\n",
       "</thead>\n",
       "<tbody>\n",
       "\t<tr><td>1</td><td>22</td><td>23</td></tr>\n",
       "\t<tr><td>2</td><td>21</td><td>NA</td></tr>\n",
       "\t<tr><td>4</td><td>19</td><td>NA</td></tr>\n",
       "\t<tr><td>5</td><td>23</td><td>24</td></tr>\n",
       "\t<tr><td>6</td><td>20</td><td>25</td></tr>\n",
       "\t<tr><td>3</td><td>NA</td><td>22</td></tr>\n",
       "</tbody>\n",
       "</table>\n"
      ],
      "text/latex": [
       "A data.frame: 6 × 3\n",
       "\\begin{tabular}{lll}\n",
       " ID & M1 & M2\\\\\n",
       " <int> & <int> & <int>\\\\\n",
       "\\hline\n",
       "\t 1 & 22 & 23\\\\\n",
       "\t 2 & 21 & NA\\\\\n",
       "\t 4 & 19 & NA\\\\\n",
       "\t 5 & 23 & 24\\\\\n",
       "\t 6 & 20 & 25\\\\\n",
       "\t 3 & NA & 22\\\\\n",
       "\\end{tabular}\n"
      ],
      "text/markdown": [
       "\n",
       "A data.frame: 6 × 3\n",
       "\n",
       "| ID &lt;int&gt; | M1 &lt;int&gt; | M2 &lt;int&gt; |\n",
       "|---|---|---|\n",
       "| 1 | 22 | 23 |\n",
       "| 2 | 21 | NA |\n",
       "| 4 | 19 | NA |\n",
       "| 5 | 23 | 24 |\n",
       "| 6 | 20 | 25 |\n",
       "| 3 | NA | 22 |\n",
       "\n"
      ],
      "text/plain": [
       "  ID M1 M2\n",
       "1 1  22 23\n",
       "2 2  21 NA\n",
       "3 4  19 NA\n",
       "4 5  23 24\n",
       "5 6  20 25\n",
       "6 3  NA 22"
      ]
     },
     "metadata": {},
     "output_type": "display_data"
    }
   ],
   "source": [
    "data1\n",
    "data2\n",
    "\n",
    "inner_join \n",
    "right_join \n",
    "left_join \n",
    "full_join "
   ]
  },
  {
   "cell_type": "code",
   "execution_count": 37,
   "id": "f29ba32c",
   "metadata": {},
   "outputs": [
    {
     "data": {
      "text/html": [
       "<table class=\"dataframe\">\n",
       "<caption>A data.frame: 9 × 3</caption>\n",
       "<thead>\n",
       "\t<tr><th scope=col>ID</th><th scope=col>M1</th><th scope=col>M2</th></tr>\n",
       "\t<tr><th scope=col>&lt;int&gt;</th><th scope=col>&lt;int&gt;</th><th scope=col>&lt;int&gt;</th></tr>\n",
       "</thead>\n",
       "<tbody>\n",
       "\t<tr><td>1</td><td>22</td><td>NA</td></tr>\n",
       "\t<tr><td>2</td><td>21</td><td>NA</td></tr>\n",
       "\t<tr><td>4</td><td>19</td><td>NA</td></tr>\n",
       "\t<tr><td>5</td><td>23</td><td>NA</td></tr>\n",
       "\t<tr><td>6</td><td>20</td><td>NA</td></tr>\n",
       "\t<tr><td>1</td><td>NA</td><td>23</td></tr>\n",
       "\t<tr><td>3</td><td>NA</td><td>22</td></tr>\n",
       "\t<tr><td>5</td><td>NA</td><td>24</td></tr>\n",
       "\t<tr><td>6</td><td>NA</td><td>25</td></tr>\n",
       "</tbody>\n",
       "</table>\n"
      ],
      "text/latex": [
       "A data.frame: 9 × 3\n",
       "\\begin{tabular}{lll}\n",
       " ID & M1 & M2\\\\\n",
       " <int> & <int> & <int>\\\\\n",
       "\\hline\n",
       "\t 1 & 22 & NA\\\\\n",
       "\t 2 & 21 & NA\\\\\n",
       "\t 4 & 19 & NA\\\\\n",
       "\t 5 & 23 & NA\\\\\n",
       "\t 6 & 20 & NA\\\\\n",
       "\t 1 & NA & 23\\\\\n",
       "\t 3 & NA & 22\\\\\n",
       "\t 5 & NA & 24\\\\\n",
       "\t 6 & NA & 25\\\\\n",
       "\\end{tabular}\n"
      ],
      "text/markdown": [
       "\n",
       "A data.frame: 9 × 3\n",
       "\n",
       "| ID &lt;int&gt; | M1 &lt;int&gt; | M2 &lt;int&gt; |\n",
       "|---|---|---|\n",
       "| 1 | 22 | NA |\n",
       "| 2 | 21 | NA |\n",
       "| 4 | 19 | NA |\n",
       "| 5 | 23 | NA |\n",
       "| 6 | 20 | NA |\n",
       "| 1 | NA | 23 |\n",
       "| 3 | NA | 22 |\n",
       "| 5 | NA | 24 |\n",
       "| 6 | NA | 25 |\n",
       "\n"
      ],
      "text/plain": [
       "  ID M1 M2\n",
       "1 1  22 NA\n",
       "2 2  21 NA\n",
       "3 4  19 NA\n",
       "4 5  23 NA\n",
       "5 6  20 NA\n",
       "6 1  NA 23\n",
       "7 3  NA 22\n",
       "8 5  NA 24\n",
       "9 6  NA 25"
      ]
     },
     "metadata": {},
     "output_type": "display_data"
    }
   ],
   "source": [
    "bind_rows(data1, data2)"
   ]
  }
 ],
 "metadata": {
  "kernelspec": {
   "display_name": "R",
   "language": "R",
   "name": "ir"
  },
  "language_info": {
   "codemirror_mode": "r",
   "file_extension": ".r",
   "mimetype": "text/x-r-source",
   "name": "R",
   "pygments_lexer": "r",
   "version": "3.6.3"
  }
 },
 "nbformat": 4,
 "nbformat_minor": 5
}
